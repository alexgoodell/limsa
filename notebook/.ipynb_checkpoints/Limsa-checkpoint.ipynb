{
 "cells": [
  {
   "cell_type": "code",
   "execution_count": 6,
   "metadata": {
    "collapsed": false
   },
   "outputs": [],
   "source": [
    "## Must be run using the \"ipython\" venv\n",
    "\n",
    "import os\n",
    "from flask import Flask, render_template, session, redirect, url_for, flash\n",
    "app = Flask(__name__)\n",
    "\n",
    "app.config['SECRET_KEY'] = 'x3432d3232432lkjew3242'\n",
    "# allows for debuging mode in runserver\n",
    "app.config['DEBUG'] = True \n",
    "\n",
    "from flask.ext.script import Manager, Shell\n",
    "manager = Manager(app)\n",
    "\n",
    "from flask.ext.bootstrap import Bootstrap\n",
    "bootstrap = Bootstrap(app)\n",
    "\n",
    "# Flask-WTF\n",
    "from flask.ext.wtf import Form\n",
    "from wtforms import StringField, SubmitField \n",
    "from wtforms.validators import Required\n",
    "\n",
    "from flask.ext.sqlalchemy import SQLAlchemy\n",
    "\n",
    "app.config['SQLALCHEMY_DATABASE_URI'] =\\\n",
    "    'sqlite:///' + '/Users/alexgoodell/code/limsa/database/limsa.sqlite'\n",
    "app.config['SQLALCHEMY_COMMIT_ON_TEARDOWN'] = True\n",
    "\n",
    "db = SQLAlchemy(app)\n",
    "\n",
    "\n",
    "#### Models\n",
    "\n",
    "class Role(db.Model):\n",
    "\t__tablename__ = 'roles'\n",
    "\tid = db.Column(db.Integer, primary_key=True)\n",
    "\tname = db.Column(db.String(64), unique=True)\n",
    "\tusers = db.relationship('User', backref='role')\n",
    "\n",
    "\tdef __repr__(self):\n",
    "\t\treturn '<Role %r>' % self.name\n",
    "\n",
    "class User(db.Model):\n",
    "\t__tablename__ = 'users'\n",
    "\tid = db.Column(db.Integer, primary_key=True)\n",
    "\tusername = db.Column(db.String(64), unique=True, index=True)\n",
    "\trole_id = db.Column(db.Integer, db.ForeignKey('roles.id'))\n",
    "\n",
    "\tdef __repr__(self):\n",
    "\t\treturn '<User %r>' % self.username\n"
   ]
  },
  {
   "cell_type": "code",
   "execution_count": 7,
   "metadata": {
    "collapsed": false
   },
   "outputs": [
    {
     "data": {
      "text/plain": [
       "[<User u'john'>, <User u'susan'>, <User u'david'>]"
      ]
     },
     "execution_count": 7,
     "metadata": {},
     "output_type": "execute_result"
    }
   ],
   "source": [
    "User.query.all()"
   ]
  },
  {
   "cell_type": "code",
   "execution_count": null,
   "metadata": {
    "collapsed": true
   },
   "outputs": [],
   "source": []
  }
 ],
 "metadata": {
  "kernelspec": {
   "display_name": "Python 2",
   "language": "python",
   "name": "python2"
  },
  "language_info": {
   "codemirror_mode": {
    "name": "ipython",
    "version": 2
   },
   "file_extension": ".py",
   "mimetype": "text/x-python",
   "name": "python",
   "nbconvert_exporter": "python",
   "pygments_lexer": "ipython2",
   "version": "2.7.5"
  }
 },
 "nbformat": 4,
 "nbformat_minor": 0
}
