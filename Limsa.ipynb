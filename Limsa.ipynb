{
 "cells": [
  {
   "cell_type": "markdown",
   "metadata": {},
   "source": [
    "#Limsa\n",
    "_Locally-interacting Markov models for HIV, TB, DM in South Africa_\n",
    "\n",
    "This is an IPython/Jupyter notebook. It is a method for creating reproducable research. Essentially, it is a way to show \"literate programming\", or very well-documented code for scientific processes. It mixes normal text with code blocks that can be run and re-run independently. \n",
    "\n",
    "The purpose of this IPython notebook is to organize the data that will be used to creat the limsa model in Go. Normally, I would complete this \"pre-processing\" task in Excel, but I want to try something more detailed and reproducible. \n",
    "\n",
    "This notebook is connected to a python application and database that will store all the tables for the Limsa model. As we progress, we will build these tables. *All changes to the database should be made through this notebook, so a record of all changes is available.* \n",
    "\n",
    "The database has tables:\n",
    "* Chains\n",
    "* States\n",
    "* Transition probabilities\n",
    "* Interactions\n",
    "* References\n",
    "* Raw inputs\n",
    "\n",
    "The Go model will then use these tables to run the model.\n"
   ]
  },
  {
   "cell_type": "code",
   "execution_count": 44,
   "metadata": {
    "collapsed": false
   },
   "outputs": [],
   "source": [
    "#connect to application\n",
    "from app import * \n",
    "#this gives us access to the database through a variables \"db\"\n",
    "def save(thing):\n",
    "    db.session.add(thing)\n",
    "    db.session.commit()\n",
    "    \n",
    "# remove any past problematic sessions\n",
    "db.session.rollback()\n",
    "    \n",
    "# drop any chains in db\n",
    "db.session.query(Chain).delete()\n",
    "db.session.commit()\n",
    "    \n",
    "# drop any states in db\n",
    "db.session.query(State).delete()\n",
    "db.session.commit()\n",
    "\n",
    "# drop any raw inputs in db\n",
    "db.session.query(Raw_input).delete()\n",
    "db.session.commit()\n",
    "\n",
    "# drop any references in db\n",
    "db.session.query(Reference).delete()\n",
    "db.session.commit()"
   ]
  },
  {
   "cell_type": "markdown",
   "metadata": {
    "collapsed": false
   },
   "source": [
    "First, let's create the different chains the model will need."
   ]
  },
  {
   "cell_type": "code",
   "execution_count": 45,
   "metadata": {
    "collapsed": false
   },
   "outputs": [
    {
     "data": {
      "text/plain": [
       "[TB disease,\n",
       " TB treatment,\n",
       " TB resistance,\n",
       " HIV disease,\n",
       " HIV treatment,\n",
       " HIV risk groups,\n",
       " Setting,\n",
       " Diabetes disease and treatment]"
      ]
     },
     "execution_count": 45,
     "metadata": {},
     "output_type": "execute_result"
    }
   ],
   "source": [
    "# create the chains we need\n",
    "chain_names = ['TB disease', 'TB treatment', 'TB resistance',\n",
    "          'HIV disease', 'HIV treatment', 'HIV risk groups',\n",
    "          'Setting', 'Diabetes disease and treatment']\n",
    "for chain_name in chain_names:\n",
    "    the_chain = Chain(name=chain_name)\n",
    "    save(the_chain)\n",
    "    \n",
    "# print chains from database\n",
    "Chain.query.all()"
   ]
  },
  {
   "cell_type": "markdown",
   "metadata": {
    "collapsed": true
   },
   "source": [
    "##TB\n",
    "\n",
    "Great. Now let's work on the TB disease chain. \n",
    "\n",
    "First, let's define the different TB states. Here is our state-transition diagram:\n",
    "\n",
    "![](static/imgs/tb.jpg)"
   ]
  },
  {
   "cell_type": "code",
   "execution_count": 46,
   "metadata": {
    "collapsed": false
   },
   "outputs": [
    {
     "data": {
      "text/plain": [
       "[Uninfected,\n",
       " Fast latent,\n",
       " Slow latent,\n",
       " Non-infectious active,\n",
       " Infectious active,\n",
       " Death]"
      ]
     },
     "execution_count": 46,
     "metadata": {},
     "output_type": "execute_result"
    }
   ],
   "source": [
    "# get TB chain\n",
    "tb_chain = Chain.query.filter_by(name=\"TB\").first()\n",
    "\n",
    "# create the chains we need\n",
    "state_names = ['Uninfected', 'Fast latent', \n",
    "                'Slow latent', 'Non-infectious active', \n",
    "                'Infectious active', 'Death']\n",
    "for state_name in state_names:\n",
    "    the_state = State(name=state_name)\n",
    "    save(the_state)\n",
    "    \n",
    "# print chains from database\n",
    "State.query.filter_by(chain=tb_chain).all()"
   ]
  },
  {
   "cell_type": "markdown",
   "metadata": {},
   "source": [
    "The transition from ``uninfected`` to any of the infected states is a function of how many people are infected with TB. This will be calculated dynamically, based on the estimated number of contacts and infectivity of contacts. In order to be able to use this data in the Go model, I've created a table called ``raw inputs``. Let's save this information there.\n",
    "\n",
    "It has been shown that people with infectious TB can infect 10-15 people through close contact per year. This can be used to calculate our base case transmissability coefficient, although calibration will be needed."
   ]
  },
  {
   "cell_type": "code",
   "execution_count": 47,
   "metadata": {
    "collapsed": false
   },
   "outputs": [],
   "source": [
    "bibtex = '''\n",
    "@article{sanchez1997uncertainty,\n",
    "  title={Uncertainty and sensitivity analysis of the basic reproductive rate: tuberculosis as an example},\n",
    "  author={Sanchez, Melissa A and Blower, Sally M},\n",
    "  journal={American Journal of Epidemiology},\n",
    "  volume={145},\n",
    "  number={12},\n",
    "  pages={1127--1137},\n",
    "  year={1997},\n",
    "  publisher={Oxford Univ Press}\n",
    "}\n",
    "'''\n",
    "\n",
    "reference = Reference(name=\"Sanchez 1997\",bibtex=bibtex)\n",
    "save(reference)\n",
    "\n",
    "#number_of_infections_per_infected = Raw_input()"
   ]
  },
  {
   "cell_type": "markdown",
   "metadata": {},
   "source": [
    "\n",
    "\n",
    "\n",
    "\n",
    "\n",
    "\n",
    "\n",
    "\n",
    "\n",
    "\n",
    "\n",
    "\n",
    "\n",
    "\n",
    "\n",
    "\n",
    "\n",
    "\n",
    "\n",
    "\n",
    "\n",
    "\n",
    "\n",
    "\n",
    "\n",
    "\n",
    "\n",
    "\n",
    "\n",
    "\n",
    "\n",
    "\n",
    "\n",
    "\n",
    "\n",
    "\n",
    "\n",
    "\n",
    "\n"
   ]
  },
  {
   "cell_type": "code",
   "execution_count": 48,
   "metadata": {
    "collapsed": true
   },
   "outputs": [],
   "source": [
    "\n",
    "##\n",
    "#\n",
    "#\n",
    "#\n",
    "#\n",
    "#\n",
    "#\n",
    "#\n",
    "#\n",
    "#\n",
    "#\n",
    "#\n",
    "#\n",
    "#\n",
    "#\n",
    "#\n",
    "#\n",
    "#\n",
    "#\n",
    "#\n",
    "#\n",
    "#\n",
    "#\n",
    "#\n",
    "#\n",
    "#\n",
    "#\n",
    "\n",
    "#\n",
    "#\n",
    "#\n",
    "\n",
    "#\n",
    "#"
   ]
  },
  {
   "cell_type": "markdown",
   "metadata": {},
   "source": [
    "#TB States\n",
    "\n",
    "I am now going to add a state called \"TB negative\" to the TB model."
   ]
  },
  {
   "cell_type": "code",
   "execution_count": 49,
   "metadata": {
    "collapsed": false
   },
   "outputs": [],
   "source": [
    "tb_chain = Chain.query.filter_by(name=\"TB disease\").first()\n",
    "\n",
    "tb_negative_state = State(name=\"TB negative\", chain=tb_chain)\n",
    "\n",
    "save(tb_negative_state)"
   ]
  },
  {
   "cell_type": "code",
   "execution_count": null,
   "metadata": {
    "collapsed": true
   },
   "outputs": [],
   "source": []
  }
 ],
 "metadata": {
  "kernelspec": {
   "display_name": "Python 2",
   "language": "python",
   "name": "python2"
  },
  "language_info": {
   "codemirror_mode": {
    "name": "ipython",
    "version": 2
   },
   "file_extension": ".py",
   "mimetype": "text/x-python",
   "name": "python",
   "nbconvert_exporter": "python",
   "pygments_lexer": "ipython2",
   "version": "2.7.5"
  }
 },
 "nbformat": 4,
 "nbformat_minor": 0
}
