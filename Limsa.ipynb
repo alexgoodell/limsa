{
 "cells": [
  {
   "cell_type": "markdown",
   "metadata": {},
   "source": [
    "#Limsa\n",
    "_Locally-interacting Markov models for HIV, TB, DM in South Africa_\n",
    "\n",
    "This is an IPython/Jupyter notebook. It is a method for creating reproducable\n",
    "research. Essentially, it is a way to show \"literate programming\", or very well-\n",
    "documented code for scientific processes. It mixes normal text with code blocks\n",
    "that can be run and re-run independently.\n",
    "\n",
    "The purpose of this IPython notebook is to organize the data that will be used\n",
    "to creat the Limsa model in Go. Normally, I would complete this \"pre-processing\"\n",
    "task in Excel, but I want to try something more detailed and reproducible.\n",
    "\n",
    "This notebook is connected to a python application and database that will store\n",
    "all the tables for the Limsa model. As we progress, we will build these tables.\n",
    "*All changes to the database should be made through this notebook, so a record\n",
    "of all changes is available.*\n",
    "\n",
    "The database has tables:\n",
    "* Chains\n",
    "* States\n",
    "* Transition probabilities\n",
    "* Interactions\n",
    "* References\n",
    "* Raw inputs\n",
    "\n",
    "To view the results of the tables, visit: http://limsa.org/admin\n",
    "\n",
    "The Go model will then use these tables to run the model."
   ]
  },
  {
   "cell_type": "code",
   "execution_count": null,
   "metadata": {},
   "outputs": [],
   "source": [
    "from IPython.display import Image\n",
    "#connect to application\n",
    "from app import * \n",
    "#this gives us access to the database through a variables \"db\"\n",
    "def save(thing):\n",
    "    if thing == None:\n",
    "        raise ValueError('Nothing to save')\n",
    "    else:\n",
    "        db.session.add(thing)\n",
    "        db.session.commit()\n",
    "    \n",
    "# remove any past problematic sessions\n",
    "db.session.rollback()\n",
    "\n",
    "# create all tables\n",
    "db.drop_all()\n",
    "db.create_all()\n",
    "    \n",
    "# drop any chains in db\n",
    "db.session.query(Chain).delete()\n",
    "db.session.commit()\n",
    "    \n",
    "# drop any states in db\n",
    "db.session.query(State).delete()\n",
    "db.session.commit()\n",
    "\n",
    "# drop any raw inputs in db\n",
    "db.session.query(Raw_input).delete()\n",
    "db.session.commit()\n",
    "\n",
    "# drop any references in db\n",
    "db.session.query(Reference).delete()\n",
    "db.session.commit()\n",
    "\n",
    "\n",
    "def link_tps_to_chains():\n",
    "    tps = Transition_probability.query.all()\n",
    "    for tp in tps:\n",
    "        from_state = tp.From_state\n",
    "        chain = from_state.Chain\n",
    "        tp.Chain = chain\n",
    "        save(tp)\n",
    "        \n",
    "def visualize_chain(chain):\n",
    "    tps = Transition_probability.query.filter_by(Chain=chain).all()\n",
    "    G=pgv.AGraph(directed=True, rankdir=\"LR\")\n",
    "    \n",
    "    for tp in tps:\n",
    "        G.add_node(tp.From_state.name, shape=\"box\", fontname=\"ArialMT\")\n",
    "        G.add_node(tp.To_state.name, shape=\"box\", fontname=\"ArialMT\")\n",
    "        if tp.Is_dynamic:\n",
    "            G.add_edge(tp.From_state.name, tp.To_state.name, label=\"Dynamic\", fontname=\"ArialMT\", fontsize=\"10\") # adds edge 'b'-'c' (and also nodes 'b', 'c')\n",
    "        else:\n",
    "            G.add_edge(tp.From_state.name, tp.To_state.name, label=tp.Tp_base, fontname=\"ArialMT\", fontsize=\"10\") # adds edge 'b'-'c' (and also nodes 'b', 'c')\n",
    "    G.layout(prog='dot')\n",
    "    G.draw('file.png')"
   ]
  },
  {
   "cell_type": "markdown",
   "metadata": {},
   "source": [
    "First, let's create the different chains the model will need."
   ]
  },
  {
   "cell_type": "code",
   "execution_count": null,
   "metadata": {},
   "outputs": [],
   "source": [
    "# create the chains we need\n",
    "chain_names = ['TB disease', 'TB treatment', 'TB resistance',\n",
    "          'HIV disease', 'HIV treatment', 'HIV risk groups',\n",
    "          'Setting', 'Diabetes disease and treatment']\n",
    "for chain_name in chain_names:\n",
    "    the_chain = Chain(name=chain_name)\n",
    "    save(the_chain)\n",
    "    \n",
    "# print chains from database\n",
    "Chain.query.all()"
   ]
  },
  {
   "cell_type": "markdown",
   "metadata": {},
   "source": [
    "#TB Disease\n",
    "\n",
    "Great. Now let's work on the TB disease chain.\n",
    "\n",
    "###States\n",
    "\n",
    "First, let's define the different TB states. Here is our state-transition\n",
    "diagram:\n",
    "\n",
    "![](static/imgs/tb.jpg)"
   ]
  },
  {
   "cell_type": "code",
   "execution_count": null,
   "metadata": {},
   "outputs": [],
   "source": [
    "# get TB chain\n",
    "tb_chain = Chain.query.filter_by(name=\"TB disease\").first()\n",
    "\n",
    "# create the chains we need\n",
    "state_names = ['Uninfected', 'Fast latent', \n",
    "                'Slow latent', 'Non-infectious active', \n",
    "                'Infectious active', 'Self cure from non-infectious', \n",
    "               'Self cure from infectious','Death']\n",
    "for state_name in state_names:\n",
    "    the_state = State(name=state_name,chain=tb_chain)\n",
    "    save(the_state)\n",
    "    \n",
    "# print chains from database\n",
    "State.query.filter_by(chain=tb_chain).all()"
   ]
  },
  {
   "cell_type": "markdown",
   "metadata": {},
   "source": [
    "###Gathering raw inputs\n",
    "\n",
    "The transition from ``uninfected`` to any of the infected states is a function\n",
    "of how many people are infected with TB. This will be calculated dynamically,\n",
    "based on the estimated number of contacts and infectivity of contacts. In order\n",
    "to be able to use this data in the Go model, I've created a table called\n",
    "`Raw_inputs`. Let's save this information there. Each Raw_inputs row has a\n",
    "`value`, which represents its base value, as well as a verbose `name`, a `high`\n",
    "and `low`. In addition, there is a `slug`. This is a shortened version of the\n",
    "name, and it will be imported and accessable from the Go code. This is\n",
    "accomplished by begining the project setup with a Makefile (or setup.py) that\n",
    "writes a Go file importing these variables as slugs. Yes - the python program\n",
    "will *write* a Go program.\n",
    "\n",
    "It has been shown that people with infectious TB can infect 10-15 people through\n",
    "close contact per year. This can be used to calculate our base case\n",
    "transmissability coefficient, although calibration will be needed."
   ]
  },
  {
   "cell_type": "code",
   "execution_count": null,
   "metadata": {},
   "outputs": [],
   "source": [
    "# Let's use the mean as the value\n",
    "\n",
    "low = 10.0\n",
    "high = 15.0\n",
    "value = (low+high)/2.0\n",
    "\n",
    "# First save reference\n",
    "bibtex = '''\n",
    "@article{sanchez1997uncertainty,\n",
    "  title={Uncertainty and sensitivity analysis of the basic reproductive rate: tuberculosis as an example},\n",
    "  author={Sanchez, Melissa A and Blower, Sally M},\n",
    "  journal={American Journal of Epidemiology},\n",
    "  volume={145},\n",
    "  number={12},\n",
    "  pages={1127--1137},\n",
    "  year={1997},\n",
    "  publisher={Oxford Univ Press}\n",
    "}\n",
    "'''\n",
    "\n",
    "reference = Reference(name=\"Sanchez 1997\",bibtex=bibtex)\n",
    "save(reference)\n",
    "\n",
    "# Save input\n",
    "number_of_infections_per_infected = Raw_input(\n",
    "    name=\"Number of TB infections per TB infected\",\n",
    "    slug=\"number_of_infections_per_infected\",\n",
    "    value=value,\n",
    "    low=low,\n",
    "    high=high,\n",
    "    reference=reference\n",
    ")\n",
    "save(number_of_infections_per_infected)"
   ]
  },
  {
   "cell_type": "markdown",
   "metadata": {},
   "source": [
    "We should also create a variable that represents a transmissability coefficient\n",
    "to adjust during calibration"
   ]
  },
  {
   "cell_type": "code",
   "execution_count": null,
   "metadata": {},
   "outputs": [],
   "source": [
    "trans_coeff = Raw_input(name=\"TB transmissability coefficient\")\n",
    "save(trans_coeff)"
   ]
  },
  {
   "cell_type": "markdown",
   "metadata": {},
   "source": [
    "We will also need a variable to represent the % of individuals that become slow\n",
    "vs fast latent."
   ]
  },
  {
   "cell_type": "code",
   "execution_count": null,
   "metadata": {},
   "outputs": [],
   "source": [
    "## The majority develop slow latent\n",
    "name = '''\n",
    "Dye cite Sutherland 1968, 1976 Ferebee 1970, Comstock 1982, Sutherland et al 1982, \n",
    "Styblo 1986, Krishnamurthy et al 1976, Krishnamurthy & Chaudhuri 1990, Vynnycky 1996,\n",
    "Vynnycky & Fine 1997, this study\n",
    "'''\n",
    "\n",
    "reference = Reference(name=name)\n",
    "save(reference)\n",
    "\n",
    "prop_slow = Raw_input(\n",
    "    name=\"Proportion of individuals developing slow latent TB\",\n",
    "    slug=\"prop_slow\",\n",
    "    value = 0.86,\n",
    "    low = 0.75,\n",
    "    high = 0.92,\n",
    "    reference=reference\n",
    ")\n",
    "save(prop_slow)\n",
    "\n",
    "\n",
    "# Some develop fast latent (ie, progressive disease)\n",
    "# TODO this may just be calculated as 1-slow \n",
    "prop_fast = Raw_input(\n",
    "    name=\"Proportion of individuals developing fast latent TB\",\n",
    "    slug=\"prop_fast\",\n",
    "    value = 0.14,\n",
    "    low = 0.08,\n",
    "    high = 0.25,\n",
    "    reference=reference\n",
    ")\n",
    "save(prop_fast)"
   ]
  },
  {
   "cell_type": "markdown",
   "metadata": {},
   "source": [
    "Next, we save the rate at which slow latent develop active disease, as an annual\n",
    "figure:"
   ]
  },
  {
   "cell_type": "code",
   "execution_count": null,
   "metadata": {},
   "outputs": [],
   "source": [
    "reference=Reference(name=\"Dye cite Horwitz et al 1969, Barnett et al 1971, Sutherland et al 1982, Styblo 1991, Vynnycky 1996, Vynnycky & Fine 1997, this study\")\n",
    "\n",
    "rate_slow_annual = Raw_input(\n",
    "    name=\"Annual rate at slow latent develop active disease\",\n",
    "    slug=\"rate_slow_annual\",\n",
    "    value=0.00013,\n",
    "    low=0.00010,\n",
    "    high=0.00030,\n",
    "    reference=reference)\n",
    "\n",
    "save(rate_slow_annual)"
   ]
  },
  {
   "cell_type": "markdown",
   "metadata": {},
   "source": [
    "Similarly, we have a rate at which fast latent develop active disease"
   ]
  },
  {
   "cell_type": "code",
   "execution_count": null,
   "metadata": {},
   "outputs": [],
   "source": [
    "reference=Reference(name=\"Basu cites: [5, 6, 18]\")\n",
    "\n",
    "rate_fast_annual = Raw_input(\n",
    "    name=\"Annual rate at fast latent develop active disease\",\n",
    "    slug=\"rate_fast_annual\",\n",
    "    value=0.88,\n",
    "\tlow=0.76,\n",
    "    high=0.99,\n",
    "    reference=reference)\n",
    "\n",
    "save(rate_fast_annual)"
   ]
  },
  {
   "cell_type": "markdown",
   "metadata": {},
   "source": [
    "It is also estimated that 65% of cases are infectious"
   ]
  },
  {
   "cell_type": "code",
   "execution_count": null,
   "metadata": {},
   "outputs": [],
   "source": [
    "reference=Reference(name=\"Dye cites: Styblo 1977, Murray et al 1993, Barnett & Styblo 1991\")\n",
    "\n",
    "prop_infectious = Raw_input(\n",
    "    name=\"Proportion of active cases that are infectious\",\n",
    "    slug=\"prop_infectious\",\n",
    "    value=0.65,\n",
    "    low=0.50,\n",
    "    high=0.65,\n",
    "    reference=reference\n",
    ")\n",
    "\n",
    "save(prop_infectious)"
   ]
  },
  {
   "cell_type": "markdown",
   "metadata": {},
   "source": [
    "This is also a rate of self-cure."
   ]
  },
  {
   "cell_type": "code",
   "execution_count": null,
   "metadata": {},
   "outputs": [],
   "source": [
    "reference=Reference(name=\"Dye cites: Springett 1971, Olakowski 1973, NTI 1974, Enarson & Rouillon 1994, Grzybowski & Enarson 1978\")\n",
    "\n",
    "rate_self_cure_annual = Raw_input(\n",
    "    name=\"Annual rate of self-cure\",\n",
    "    slug=\"rate_self_cure_annual\",\n",
    "    value=0.020,\n",
    "    low=0.15,\n",
    "    high=0.25,\n",
    "    reference=reference\n",
    ")\n",
    "\n",
    "save(rate_self_cure_annual)"
   ]
  },
  {
   "cell_type": "markdown",
   "metadata": {},
   "source": [
    "And an ability to replase from self cure"
   ]
  },
  {
   "cell_type": "code",
   "execution_count": null,
   "metadata": {},
   "outputs": [],
   "source": [
    "reference=Reference(name=\"Dye cites: Springett 1961, Grzybowski et al 1965, Ferebee 1970, Chan-Yeung et al 1971, Campbell 1974, Nakielna et al 1975, Styblo 1986\")\n",
    "\n",
    "rate_relapse_from_self_cure_annual = Raw_input(\n",
    "    name=\"Annual rate of relapse from self-cure\",\n",
    "    slug=\"rate_relapse_from_self_cure_annual\",\n",
    "    value=0.03,\n",
    "    low=0.02,\n",
    "    high=0.04,\n",
    "    reference=reference\n",
    ")\n",
    "\n",
    "save(rate_relapse_from_self_cure_annual)"
   ]
  },
  {
   "cell_type": "markdown",
   "metadata": {},
   "source": [
    "Individuals can also convert from non-infectious to infection at a specified\n",
    "rate"
   ]
  },
  {
   "cell_type": "code",
   "execution_count": null,
   "metadata": {},
   "outputs": [],
   "source": [
    "reference = Reference(name=\"Dye cites Ferebee 1970, HKCS 1974\")\n",
    "\n",
    "rate_conversion_annual = Raw_input(\n",
    "    name=\"Annual rate of conversion from non-infectious to infectious\",\n",
    "    slug=\"rate_conversion_annual\",\n",
    "    value = 0.015,\n",
    "    low =0.007,\n",
    "    high = 0.02,\n",
    "    reference=reference)\n",
    "\n",
    "save(rate_conversion_annual)"
   ]
  },
  {
   "cell_type": "markdown",
   "metadata": {},
   "source": [
    "####Mortality\n",
    "\n",
    "Individuals can die of infectious active TB as well as non-infectious active TB."
   ]
  },
  {
   "cell_type": "code",
   "execution_count": null,
   "metadata": {},
   "outputs": [],
   "source": [
    "#### infectious TB\n",
    "reference = Reference(name=\"Dye who cites Rutledge & Crouch 1919, Berg 1939, Drolet 1938, Thompson 1943, Tatersall 1947, Lowe 1954, Springett 1971, NTI 1974, Grzybowski & Enarson 1978\")\n",
    "\n",
    "infect_tb_mort_annual = Raw_input(\n",
    "    name=\"Yearly mortality from infectious TB\",\n",
    "    slug=\"infect_tb_mort_annual\",\n",
    "    value=0.30,\n",
    "    low=0.20,\n",
    "    high=0.40,\n",
    "    reference=reference\n",
    ")\n",
    "save(infect_tb_mort_annual)\n",
    "\n",
    "reference = Reference(name=\"Dye who cites Lindhart 1939, Murray et al 1993\")\n",
    "\n",
    "noninfect_tb_mort_annual = Raw_input(\n",
    "    name=\"Yearly mortality from non-infectious TB\",\n",
    "    slug=\"noninfect_tb_mort_annual\",\n",
    "    value=0.21,\n",
    "    low=0.18,\n",
    "    high=0.25,\n",
    "    reference=reference\n",
    ")\n",
    "\n",
    "save(noninfect_tb_mort_annual)"
   ]
  },
  {
   "cell_type": "markdown",
   "metadata": {},
   "source": [
    "### Transition probabilities\n",
    "\n",
    "Now, we can fill in the basic transition probabilties for this chain."
   ]
  },
  {
   "cell_type": "code",
   "execution_count": null,
   "metadata": {},
   "outputs": [],
   "source": [
    "# For later visualizaton scripts\n",
    "import pygraphviz as pgv\n",
    "import time\n",
    "\n",
    "\n",
    "# In order to convert yearly rates to quarterly rates, we use the following function\n",
    "# TODO this is not really true - to discuss\n",
    "def convert_year_to_qt(value):\n",
    "    return value/4\n",
    "\n",
    "\n",
    "# TODO: Run PSA changes here?\n",
    "\n",
    "# TODO: should there be a function that fills in recursive TPs?\n",
    "\n",
    "# get all states of the TB disease chain\n",
    "uninfected_state=State.query.filter_by(name=\"Uninfected\",chain=tb_chain).first()\n",
    "fast_latent_state=State.query.filter_by(name=\"Fast latent\",chain=tb_chain).first()\n",
    "slow_latent_state=State.query.filter_by(name=\"Slow latent\", chain=tb_chain).first()\n",
    "noninfectious_active_state=State.query.filter_by(name=\"Non-infectious active\", chain=tb_chain).first()\n",
    "infectious_active_state=State.query.filter_by(name=\"Infectious active\", chain=tb_chain).first()\n",
    "self_cure_from_noninfectious = State.query.filter_by(name=\"Self cure from non-infectious\", chain=tb_chain).first()\n",
    "self_cure_from_infectious = State.query.filter_by(name=\"Self cure from infectious\", chain=tb_chain).first()\n",
    "death_state=State.query.filter_by(name=\"Death\", chain=tb_chain).first()\n",
    "\n",
    "#Infection to fast latent\n",
    "save(Transition_probability(\n",
    "    From_state=uninfected_state,\n",
    "    To_state=fast_latent_state,\n",
    "    Is_dynamic=True\n",
    "))\n",
    "\n",
    "\n",
    "\n",
    "\n",
    "# Infection to slow latent\n",
    "save(Transition_probability(\n",
    "    From_state=uninfected_state,\n",
    "    To_state=slow_latent_state,\n",
    "    Is_dynamic=True\n",
    "))\n",
    "\n",
    "# Slow latent to non-infectious active\n",
    "\n",
    "slow_to_noninfectious_active = convert_year_to_qt(rate_slow_annual.value*(1.0-prop_infectious.value))\n",
    "\n",
    "save(Transition_probability(\n",
    "    From_state=slow_latent_state,\n",
    "    To_state=noninfectious_active_state,\n",
    "    Tp_base=slow_to_noninfectious_active\n",
    "))\n",
    "\n",
    "# Slow latent to infectious active\n",
    "\n",
    "slow_to_infectious_active = convert_year_to_qt(rate_slow_annual.value*prop_infectious.value)\n",
    "\n",
    "save(Transition_probability(\n",
    "    From_state=slow_latent_state,\n",
    "    To_state=infectious_active_state,\n",
    "    Tp_base=slow_to_infectious_active\n",
    "))\n",
    "\n",
    "# Fast latent to non-infectious active\n",
    "\n",
    "fast_to_noninfectious_active = convert_year_to_qt(rate_fast_annual.value*(1.0-prop_infectious.value))\n",
    "\n",
    "save(Transition_probability(\n",
    "    From_state=fast_latent_state,\n",
    "    To_state=noninfectious_active_state,\n",
    "    Tp_base=fast_to_noninfectious_active\n",
    "))\n",
    "\n",
    "# Fast latent to infectious active\n",
    "\n",
    "fast_to_infectious_active = convert_year_to_qt(rate_fast_annual.value*prop_infectious.value)\n",
    "\n",
    "save(Transition_probability(\n",
    "    From_state=fast_latent_state,\n",
    "    To_state=infectious_active_state,\n",
    "    Tp_base=fast_to_infectious_active\n",
    "))\n",
    "\n",
    "# Self cure - infectious\n",
    "\n",
    "rate_self_cure_qt = convert_year_to_qt(rate_self_cure_annual.value)\n",
    "\n",
    "save(Transition_probability(\n",
    "    From_state=infectious_active_state,\n",
    "    To_state=self_cure_from_infectious,\n",
    "    Tp_base=rate_self_cure_qt\n",
    "))\n",
    "\n",
    "# Self cure - noninfectious\n",
    "\n",
    "rate_self_cure_qt = convert_year_to_qt(rate_self_cure_annual.value)\n",
    "\n",
    "save(Transition_probability(\n",
    "    From_state=noninfectious_active_state,\n",
    "    To_state=self_cure_from_noninfectious,\n",
    "    Tp_base=rate_self_cure_qt\n",
    "))\n",
    "\n",
    "# Relapse from self cure - infectious\n",
    "\n",
    "rate_relapse_from_self_cure_qt = convert_year_to_qt(rate_relapse_from_self_cure_annual.value)\n",
    "\n",
    "save(Transition_probability(\n",
    "    From_state=self_cure_from_infectious ,\n",
    "    To_state=infectious_active_state,\n",
    "    Tp_base=rate_relapse_from_self_cure_qt\n",
    "))\n",
    "\n",
    "# Replase from self cure - noninfectious\n",
    "\n",
    "rate_relapse_from_self_cure_qt = convert_year_to_qt(rate_relapse_from_self_cure_annual.value)\n",
    "\n",
    "save(Transition_probability(\n",
    "    From_state=self_cure_from_noninfectious,\n",
    "    To_state=noninfectious_active_state,\n",
    "    Tp_base=rate_relapse_from_self_cure_qt\n",
    "))\n",
    "\n",
    "\n",
    "# Conversion from non-infectious to infectious\n",
    "\n",
    "rate_conversion_qt = convert_year_to_qt(rate_conversion_annual.value)\n",
    "\n",
    "save(Transition_probability(\n",
    "    From_state=noninfectious_active_state,\n",
    "    To_state=infectious_active_state,\n",
    "    Tp_base=rate_conversion_qt\n",
    "))\n",
    "\n",
    "\n",
    "# Mortality - from noninfectious\n",
    "\n",
    "noninfect_tb_mort_qt = convert_year_to_qt(noninfect_tb_mort_annual.value)\n",
    "\n",
    "save(Transition_probability(\n",
    "    From_state=noninfectious_active_state,\n",
    "    To_state=death_state,\n",
    "    Tp_base=noninfect_tb_mort_qt\n",
    "))\n",
    "\n",
    "# Mortality - from infectious\n",
    "\n",
    "infect_tb_mort_qt = convert_year_to_qt(infect_tb_mort_annual.value)\n",
    "\n",
    "save(Transition_probability(\n",
    "    From_state=infectious_active_state,\n",
    "    To_state=death_state,\n",
    "    Tp_base=infect_tb_mort_qt\n",
    "))"
   ]
  },
  {
   "cell_type": "markdown",
   "metadata": {},
   "source": [
    "Now that we've completed building the transitions matrix, we can visualize all\n",
    "the transitions (recursive transitions not shown)."
   ]
  },
  {
   "cell_type": "code",
   "execution_count": null,
   "metadata": {},
   "outputs": [],
   "source": [
    "link_tps_to_chains()\n",
    "visualize_chain(tb_chain)\n",
    "Image(filename='file.png')"
   ]
  },
  {
   "cell_type": "markdown",
   "metadata": {},
   "source": [
    "#TB resistance\n",
    "\n",
    "Next, let's move on to discuss TB resistance. We want to model an uninfected\n",
    "state, as well as five different diseased states:\n",
    "\n",
    "* Fully Susceptible\n",
    "* INH-monoresistant\n",
    "* RIF-monoresistant\n",
    "* MDR\n",
    "* XDR\n",
    "\n",
    "Let's get the chain for resistance, and add these states to the chain."
   ]
  },
  {
   "cell_type": "code",
   "execution_count": null,
   "metadata": {},
   "outputs": [],
   "source": [
    "# get TB resistance chain\n",
    "tb_resistance_chain = Chain.query.filter_by(name=\"TB resistance\").first()\n",
    "\n",
    "# create the chains we need\n",
    "state_names = [\"Uninfected\",\"Fully Susceptible\",\"INH-monoresistant\",\n",
    "               \"RIF-monoresistant\",\"MDR\",\"XDR\", \"Death\"]\n",
    "\n",
    "# save them with TB resistance chain\n",
    "for state_name in state_names:\n",
    "    the_state = State(name=state_name,chain=tb_resistance_chain)\n",
    "    save(the_state)\n",
    "    \n",
    "# print chains from database\n",
    "State.query.filter_by(chain=tb_resistance_chain).all()"
   ]
  },
  {
   "cell_type": "markdown",
   "metadata": {},
   "source": [
    "##Gathering raw inputs\n",
    "\n",
    "The transition probabilities for aquiring a resistant infection are the sum of:\n",
    "* the chance of your current strain becoming endogenously resistant\n",
    "* the chance you will become infected with a drug-resistant strain from someone\n",
    "else\n",
    "\n",
    "The later will need to be calculated dynamically, but we can store the former as\n",
    "raw input to be used by the model. Let's do that."
   ]
  },
  {
   "cell_type": "code",
   "execution_count": null,
   "metadata": {},
   "outputs": [],
   "source": [
    "reference = Reference(name=\"Basu calibration\")\n",
    "\n",
    "# DS -> INHR\n",
    "\n",
    "endo_rate_ds_to_inhr_annual = Raw_input(\n",
    "    name=\"Annual rate of endogenous conversion from drug-suseptible to INH resistant\",\n",
    "    slug=\"endo_rate_ds_to_inhr_annual\",\n",
    "    value=0.038,\n",
    "    low=0.025,\n",
    "    high=0.050,\n",
    "    reference=reference\n",
    ")\n",
    "\n",
    "save(endo_rate_ds_to_inhr_annual)\n",
    "\n",
    "# DS -> RIFR\n",
    "\n",
    "endo_rate_ds_to_rifr_annual = Raw_input(\n",
    "    name=\"Annual rate of endogenous conversion from drug-suseptible to RIF resistant\",\n",
    "    slug=\"endo_rate_ds_to_rifr_annual\",\n",
    "    value=0.038,\n",
    "    low=0.025,\n",
    "    high=0.050,\n",
    "    reference=reference \n",
    ")\n",
    "\n",
    "save(endo_rate_ds_to_rifr_annual)\n",
    "\n",
    "# RIFR -> MDR\n",
    "\n",
    "endo_rate_rifr_to_mdr_annual = Raw_input(\n",
    "    name=\"Annual rate of endogenous conversion from RFI resistant to MD resistant\",\n",
    "    slug=\"endo_rate_rifr_to_mdr_annual\",\n",
    "    value=0.038,\n",
    "    low=0.025,\n",
    "    high=0.050,\n",
    "    reference=reference \n",
    ")\n",
    "\n",
    "save(endo_rate_rifr_to_mdr_annual)\n",
    "\n",
    "# INHR -> MDR\n",
    "\n",
    "endo_rate_inhr_to_mdr_annual = Raw_input(\n",
    "\t name=\"Annual rate of endogenous conversion from INHR to MD resistant\",\n",
    "    slug=\"endo_rate_inhr_to_mdr_annual\",\n",
    "    value=0.038,\n",
    "\t low=0.025,\n",
    "\t high=0.050,\n",
    "\t reference=reference \n",
    ")\n",
    "\n",
    "save(endo_rate_inhr_to_mdr_annual)\n",
    "\n",
    "# MDR->XDR\n",
    "\n",
    "endo_rate_mdr_to_xdr_annual = Raw_input(\n",
    "    name=\"Annual rate of endogenous conversion from MDR to XD resistant\",\n",
    "    slug=\"endo_rate_mdr_to_xdr_annual\",\n",
    "    value=0.030,\n",
    "    low=0.025,\n",
    "    high=0.050,\n",
    "    reference=reference \n",
    ")\n",
    "\n",
    "save(endo_rate_mdr_to_xdr_annual)"
   ]
  },
  {
   "cell_type": "markdown",
   "metadata": {},
   "source": [
    "## Transition probabilities\n",
    "\n",
    "As mentioned above, these will need to be calcualted dynamically. Let's add them\n",
    "in, but mark them all as dynamic."
   ]
  },
  {
   "cell_type": "code",
   "execution_count": null,
   "metadata": {},
   "outputs": [],
   "source": [
    "# get TB resistance chain\n",
    "tb_resistance_chain = Chain.query.filter_by(name=\"TB resistance\").first()\n",
    "\n",
    "# Get states\n",
    "uninfected_state=State.query.filter_by(name=\"Uninfected\",chain=tb_resistance_chain).first()\n",
    "fully_susceptible_state=State.query.filter_by(name=\"Fully Susceptible\",chain=tb_resistance_chain).first()\n",
    "inh_monoresistant_state=State.query.filter_by(name=\"INH-monoresistant\", chain=tb_resistance_chain).first()\n",
    "rif_monoresistant_state=State.query.filter_by(name=\"RIF-monoresistant\", chain=tb_resistance_chain).first()\n",
    "mdr_state=State.query.filter_by(name=\"MDR\", chain=tb_resistance_chain).first()\n",
    "xdr_state=State.query.filter_by(name=\"XDR\", chain=tb_resistance_chain).first()\n",
    "\n",
    "# Uninfected to infected\n",
    "save(Transition_probability(\n",
    "    From_state=uninfected_state,\n",
    "    To_state=fully_susceptible_state,\n",
    "    Is_dynamic=True\n",
    "))\n",
    "\n",
    "# DS to RIF\n",
    "save(Transition_probability(\n",
    "    From_state=fully_susceptible_state,\n",
    "    To_state=rif_monoresistant_state,\n",
    "    Is_dynamic=True\n",
    "))\n",
    "\n",
    "# DS to INHR\n",
    "save(Transition_probability(\n",
    "    From_state=fully_susceptible_state,\n",
    "    To_state=inh_monoresistant_state,\n",
    "    Is_dynamic=True\n",
    "))\n",
    "\n",
    "#  RIF to MDR\n",
    "save(Transition_probability(\n",
    "    From_state=rif_monoresistant_state,\n",
    "    To_state=mdr_state,\n",
    "    Is_dynamic=True\n",
    "))\n",
    "\n",
    "# IHN to MDR\n",
    "save(Transition_probability(\n",
    "    From_state=inh_monoresistant_state,\n",
    "    To_state=mdr_state,\n",
    "    Is_dynamic=True\n",
    "))\n",
    "\n",
    "# MDR to XDR\n",
    "save(Transition_probability(\n",
    "    From_state=mdr_state,\n",
    "    To_state=xdr_state,\n",
    "    Is_dynamic=True\n",
    "))"
   ]
  },
  {
   "cell_type": "markdown",
   "metadata": {},
   "source": [
    "We can now visualize this chain."
   ]
  },
  {
   "cell_type": "code",
   "execution_count": null,
   "metadata": {},
   "outputs": [],
   "source": [
    "link_tps_to_chains()\n",
    "visualize_chain(tb_resistance_chain)\n",
    "Image(filename='file.png')"
   ]
  },
  {
   "cell_type": "markdown",
   "metadata": {},
   "source": [
    "#TB treatment\n",
    "\n",
    "Now, let's turn our attention to the TB treatment model. In addition to the\n",
    "uninfected state, we need to model three diseased states: untreated (latent),\n",
    "untreated (active) and treated. Let's create those states."
   ]
  },
  {
   "cell_type": "code",
   "execution_count": null,
   "metadata": {},
   "outputs": [],
   "source": [
    "# get TB treatment chain\n",
    "tb_treatment_chain = Chain.query.filter_by(name=\"TB treatment\").first()\n",
    "\n",
    "# create the chains we need\n",
    "state_names = [\"Uninfected\",\"Untreated - Latent\", \"Untreated - Active\", \"Treated\", \"Death\"]\n",
    "\n",
    "# save them with TB resistance chain\n",
    "for state_name in state_names:\n",
    "    the_state = State(name=state_name,chain=tb_treatment_chain)\n",
    "    save(the_state)\n",
    "    \n",
    "# print chains from database\n",
    "State.query.filter_by(chain=tb_treatment_chain).all()"
   ]
  },
  {
   "cell_type": "markdown",
   "metadata": {},
   "source": [
    "##Raw inputs\n",
    "\n",
    "Now let's look at the raw data.\n",
    "\n",
    "Obviously, transition from uninfected to untreated latent and untreated latent\n",
    "to untreated active are dynamic.\n",
    "\n",
    "Treatment uptake rates for active infections are not readily available. However,\n",
    "there is an estimated case detection of 62% (52–75).1"
   ]
  },
  {
   "cell_type": "code",
   "execution_count": null,
   "metadata": {},
   "outputs": [],
   "source": [
    "reference = Reference(name=\"WHO. Global tuberculosis report 2013. (2013)\")\n",
    "\n",
    "case_detection_rate = Raw_input(\n",
    "    name=\"Estimated case detection\",\n",
    "    slug=\"case_detection_rate\",\n",
    "    value=0.62,\n",
    "    low=0.52,\n",
    "    high=0.75,\n",
    "    reference=reference\n",
    ")\n",
    "\n",
    "save(case_detection_rate)"
   ]
  },
  {
   "cell_type": "markdown",
   "metadata": {},
   "source": [
    "One study of 376 confirmed active cases in South Africa suggested that only 74%\n",
    "of those diagnosed started treatment. I will assume that the high and low are\n",
    "0.7 and 0.8"
   ]
  },
  {
   "cell_type": "code",
   "execution_count": null,
   "metadata": {},
   "outputs": [],
   "source": [
    "reference = Reference(name=\"Botha, E. et al. From suspect to patient...\")\n",
    "\n",
    "percent_diagnosed_treated = Raw_input(\n",
    "    name=\"Proportion of diagnosed that recieve treatment\",\n",
    "    slug=\"percent_diagnosed_treated\",\n",
    "    value=0.74,\n",
    "    low=0.7,\n",
    "    high=0.8,\n",
    "    reference=reference\n",
    ")\n",
    "\n",
    "save(percent_diagnosed_treated)"
   ]
  },
  {
   "cell_type": "markdown",
   "metadata": {},
   "source": [
    "Althougth this is not fully accurate, we can estimate the total percent of\n",
    "individuals who recieve treatment using these two values."
   ]
  },
  {
   "cell_type": "code",
   "execution_count": null,
   "metadata": {},
   "outputs": [],
   "source": [
    "overall_percent_active_treated = Raw_input(\n",
    "    name=\"Percent of all active that will be treated\",\n",
    "    slug=\"overall_percent_active_treated\",\n",
    "    value=percent_diagnosed_treated.value * case_detection_rate.value,\n",
    "    low=percent_diagnosed_treated.low * case_detection_rate.low,\n",
    "    high=percent_diagnosed_treated.high * case_detection_rate.high,\n",
    ")\n",
    "\n",
    "save(overall_percent_active_treated)"
   ]
  },
  {
   "cell_type": "markdown",
   "metadata": {},
   "source": [
    "We will also assume that there is a drop-out rate of 10% (5-15%)"
   ]
  },
  {
   "cell_type": "code",
   "execution_count": null,
   "metadata": {},
   "outputs": [],
   "source": [
    "drop_out_rate_annual = Raw_input(\n",
    "    name=\"Annual drop out rate\",\n",
    "    slug=\"drop_out_rate_annual\",\n",
    "    value=0.1,\n",
    "    low=0.05,\n",
    "    high=0.15\n",
    ")\n",
    "\n",
    "save(drop_out_rate_annual)"
   ]
  },
  {
   "cell_type": "markdown",
   "metadata": {},
   "source": [
    "##Transition probabilities\n",
    "\n",
    "Now let's add in the transition probabilities."
   ]
  },
  {
   "cell_type": "code",
   "execution_count": null,
   "metadata": {},
   "outputs": [],
   "source": [
    "# convert annual to quarterly \n",
    "\n",
    "drop_out_rate_qt = convert_year_to_qt(drop_out_rate_annual.value)\n",
    "enrollment_rate_qt = convert_year_to_qt(overall_percent_active_treated.value)\n",
    "\n",
    "\n",
    "# get TB resistance chain\n",
    "tb_treatment_chain = Chain.query.filter_by(name=\"TB treatment\").first()\n",
    "\n",
    "# Get states\n",
    "uninfected_state=State.query.filter_by(name=\"Uninfected\",chain=tb_treatment_chain).first()\n",
    "untreated_latent_state=State.query.filter_by(name=\"Untreated - Latent\",chain=tb_treatment_chain).first()\n",
    "untreated_active_state=State.query.filter_by(name=\"Untreated - Active\", chain=tb_treatment_chain).first()\n",
    "treated_state=State.query.filter_by(name=\"Treated\", chain=tb_treatment_chain).first()\n",
    "\n",
    "\n",
    "# Uninfected to untreated latent\n",
    "save(Transition_probability(\n",
    "    From_state=uninfected_state,\n",
    "    To_state=untreated_latent_state,\n",
    "    Is_dynamic=True\n",
    "))\n",
    "\n",
    "# Untreated latent to untreated active\n",
    "save(Transition_probability(\n",
    "    From_state=untreated_latent_state,\n",
    "    To_state=untreated_active_state,\n",
    "    Is_dynamic=True\n",
    "))\n",
    "\n",
    "\n",
    "# Enrollment - Untreated active to treated active\n",
    "save(Transition_probability(\n",
    "    From_state=untreated_active_state,\n",
    "    To_state=treated_state,\n",
    "    Tp_base=enrollment_rate_qt\n",
    "))\n",
    "\n",
    "\n",
    "# Drop - out Untreated active to untreated active\n",
    "save(Transition_probability(\n",
    "    From_state=treated_state,\n",
    "    To_state=untreated_active_state,\n",
    "     Tp_base=drop_out_rate_qt\n",
    "))"
   ]
  },
  {
   "cell_type": "markdown",
   "metadata": {},
   "source": [
    "Now, let's visualize this chain."
   ]
  },
  {
   "cell_type": "code",
   "execution_count": null,
   "metadata": {},
   "outputs": [],
   "source": [
    "link_tps_to_chains()\n",
    "visualize_chain(tb_treatment_chain)\n",
    "Image(filename='file.png')"
   ]
  },
  {
   "cell_type": "markdown",
   "metadata": {},
   "source": [
    "#HIV disease\n",
    "\n",
    "Now, lets turn our attention to the HIV model. Let's start by building the\n",
    "disease model. Let's first build the states."
   ]
  },
  {
   "cell_type": "code",
   "execution_count": null,
   "metadata": {},
   "outputs": [],
   "source": [
    "\n",
    "# get TB resistance chain\n",
    "hiv_disease_chain = Chain.query.filter_by(name=\"HIV disease\").first()\n",
    "\n",
    "# create the chains we need\n",
    "state_names = [\"Uninfected\", \"Acute\", \"Early\",\n",
    "    \"Late\", \"Advanced/AIDS\", \"Death\" ]\n",
    "\n",
    "# save them with TB resistance chain\n",
    "for state_name in state_names:\n",
    "    the_state = State(name=state_name,chain=hiv_disease_chain)\n",
    "    save(the_state)\n",
    "    \n",
    "# print chains from database"
   ]
  },
  {
   "cell_type": "markdown",
   "metadata": {},
   "source": [
    "Because the transition probabilites for infection are dynamic, we need to build some raw inputs.\n",
    "\n",
    "Firstly, let's look at condom effectiveness. Let's assume a 0.9 to 1 low and\n",
    "high"
   ]
  },
  {
   "cell_type": "code",
   "execution_count": null,
   "metadata": {},
   "outputs": [],
   "source": [
    "\n",
    "reference = Reference(name=\"Alistar, S. S., Grant, P. M. & Bendavid, E. Comparative effectiveness and cost-effectiveness of antiretroviral therapy and pre-exposure prophylaxis for HIV prevention in South Africa. BMC Med. 12, 46 (2014).\")\n",
    "\n",
    "condom_effectiveness = Raw_input(\n",
    "    name=\"Condom effectiveness\",\n",
    "    slug=\"condom_effectiveness\",\n",
    "    value=0.95,\n",
    "    low=0.9,\n",
    "    high=1,\n",
    "    reference=reference\n",
    ")\n",
    "\n",
    "save(condom_effectiveness)"
   ]
  },
  {
   "cell_type": "markdown",
   "metadata": {},
   "source": [
    "Next, we can look at condom use."
   ]
  },
  {
   "cell_type": "code",
   "execution_count": null,
   "metadata": {},
   "outputs": [],
   "source": [
    "\n",
    "reference = Reference(name=\"http://www.ncbi.nlm.nih.gov/pmc/articles/PMC2654146/pdf/U9G-85-S1-0072.pdf, 2007\")\n",
    "\n",
    "condom_use = Raw_input(\n",
    "    name=\"Proportion of times people use condoms\",\n",
    "    slug=\"condom_use\",\n",
    "    value=0.25,\n",
    "    low=0.1,\n",
    "    high=0.4,\n",
    "    reference=reference\n",
    ")\n",
    "\n",
    "save(condom_use)"
   ]
  },
  {
   "cell_type": "markdown",
   "metadata": {},
   "source": [
    "And now many partnerships people have in general. We will assume the high and low of 1 and 2."
   ]
  },
  {
   "cell_type": "code",
   "execution_count": null,
   "metadata": {},
   "outputs": [],
   "source": [
    "\n",
    "reference = Reference(name=\"http://www.ncbi.nlm.nih.gov/pmc/articles/PMC2654146/pdf/U9G-85-S1-0072.pdf, 2007\")\n",
    "\n",
    "general_parternships = Raw_input(\n",
    "    name=\"Number of partnerships\",\n",
    "    slug=\"general_parternships\",\n",
    "    value=1.19,\n",
    "    low=1,\n",
    "    high=2,\n",
    "    reference=reference\n",
    ")\n"
   ]
  },
  {
   "cell_type": "markdown",
   "metadata": {},
   "source": [
    "Now let's look at the transmission likelyhood per partnership. Note: the sources provide a high and low; I've just taken the mean as our best estimate."
   ]
  },
  {
   "cell_type": "code",
   "execution_count": null,
   "metadata": {},
   "outputs": [],
   "source": [
    "\n",
    "reference = Reference(name=\"Alistar 137 using data from Cohen 33 and Hollingsworth 138\")\n",
    "\n",
    "trans_per_partnership = Raw_input(\n",
    "    name=\"Transmission likelyhood per partnership\",\n",
    "    slug=\"trans_per_partnership\",\n",
    "    value=0.077,\n",
    "    low=0.004,\n",
    "    high=0.15,\n",
    "    reference=reference\n",
    ")\n",
    "\n",
    "save(trans_per_partnership)"
   ]
  },
  {
   "cell_type": "markdown",
   "metadata": {},
   "source": [
    "We also need information about the sexual behavior of the different risk populations.\n",
    "\n",
    "###Sex workers\n",
    "\n",
    "The condom use of sex workers."
   ]
  },
  {
   "cell_type": "code",
   "execution_count": null,
   "metadata": {},
   "outputs": [],
   "source": [
    "\n",
    "reference = Reference(name=\"As cited in 139 Billinghurst, K. 1999. Chief Medical Officer,...\")\n",
    "\n",
    "condom_use_sex_workers = Raw_input(\n",
    "    name=\"Condom use sex workers (proportion)\",\n",
    "    slug=\"condom_use_sex_workers\",\n",
    "    value=0.902,\n",
    "    low=0.50,\n",
    "    high=0.902,\n",
    "    reference=reference\n",
    ")\n",
    "    \n",
    "save(condom_use_sex_workers)\n"
   ]
  },
  {
   "cell_type": "markdown",
   "metadata": {},
   "source": [
    "And the number of partners per year."
   ]
  },
  {
   "cell_type": "code",
   "execution_count": null,
   "metadata": {},
   "outputs": [],
   "source": [
    "\n",
    "reference = Reference(name=\"Billinghurst, K. (1999). Chief Medical Officer, CDCHIV AIDS STD Program Mpumalanga Department of Health, Unpublished project data.\")\n",
    "\n",
    "csw_number_of_partners_per_year = Raw_input(\n",
    "    name=\"CSW number of partners per year\",\n",
    "    slug=\"csw_number_of_partners_per_year\",\n",
    "    value=25,\n",
    "    low=10,\n",
    "    high=100,\n",
    ")\n",
    "\n",
    "save(csw_number_of_partners_per_year)\n"
   ]
  },
  {
   "cell_type": "markdown",
   "metadata": {},
   "source": [
    "And the number of episodes per client."
   ]
  },
  {
   "cell_type": "code",
   "execution_count": null,
   "metadata": {},
   "outputs": [],
   "source": [
    "\n",
    "reference = Reference(name=\"Marseille, E., Kahn, J. G., Billinghurst, K. & Saba, J. Cost-effectiveness of...\")\n",
    "\n",
    "csw_episodes_per_client = Raw_input(\n",
    "    name=\"Number of episodes per client\",\n",
    "    slug=\"csw_episodes_per_client\",\n",
    "    value=2,\n",
    "    low=1,\n",
    "    high=5,\n",
    ")\n",
    "\n",
    "save(csw_episodes_per_client)"
   ]
  },
  {
   "cell_type": "markdown",
   "metadata": {},
   "source": [
    "And the proportion of men who use the services"
   ]
  },
  {
   "cell_type": "code",
   "execution_count": null,
   "metadata": {},
   "outputs": [],
   "source": [
    "\n",
    "reference = Reference(name=\"From surrounding countries, http://www.ncbi.nlm.nih.gov/pmc/articles/PMC2576731/\")\n",
    "\n",
    "prop_mem_use_services = Raw_input(\n",
    "    name=\"Proportion of men who use CSW services\",\n",
    "    slug=\"prop_mem_use_services\",\n",
    "    value=0.015,\n",
    "    low=0.02,\n",
    "    high=0.03,\n",
    "    reference=reference\n",
    ")\n",
    "\n",
    "save(prop_mem_use_services)\n"
   ]
  },
  {
   "cell_type": "markdown",
   "metadata": {},
   "source": [
    "###Men who have sex with men\n",
    "\n",
    "The number of annual partnership for MSM - High and low are WAG"
   ]
  },
  {
   "cell_type": "code",
   "execution_count": null,
   "metadata": {},
   "outputs": [],
   "source": [
    "\n",
    "reference = Reference(name=\"Extraction notes unclear\")\n",
    "\n",
    "num_partners_msm = Raw_input(\n",
    "    name=\"The number of annual partnership for MSM\",\n",
    "    slug=\"num_partners_msm\",\n",
    "    value=4.6,\n",
    "    low=1,\n",
    "    high=10,\n",
    "    reference=reference\n",
    ")\n",
    "\n",
    "save(num_partners_msm)\n",
    "    \n"
   ]
  },
  {
   "cell_type": "markdown",
   "metadata": {},
   "source": [
    "Next, we to look at the average condom use for MSM. High and low are WAG."
   ]
  },
  {
   "cell_type": "code",
   "execution_count": null,
   "metadata": {},
   "outputs": [],
   "source": [
    "\n",
    "reference = Reference(name=\"2011** limited survey area - % reported always using condoms with male sexual partner, HIV Risk and Associations of HIV Infection among MSM in peri-urban Cape Town, South Africa\")\n",
    "\n",
    "condom_use_msm = Raw_input(\n",
    "    name=\"average condom use for MSM\",\n",
    "    slug=\"condom_use_msm\",\n",
    "    value=0.524,\n",
    "    low=0.4,\n",
    "    high=0.6,\n",
    "    reference=reference\n",
    ")\n",
    "\n",
    "save(condom_use_msm)\n"
   ]
  },
  {
   "cell_type": "markdown",
   "metadata": {},
   "source": [
    "###IDUs\n",
    "\n",
    "We also must look at IDUs. We assume that they use condoms 20% (10-30%) of the time."
   ]
  },
  {
   "cell_type": "code",
   "execution_count": null,
   "metadata": {},
   "outputs": [],
   "source": [
    "\n",
    "reference = Reference(name=\"Assumed\")\n",
    "\n",
    "condom_use_idus = Raw_input(\n",
    "    name=\"IDU condom use\",\n",
    "    slug=\"condom_use_idus\",\n",
    "    value=0.2,\n",
    "    low=0.1,\n",
    "    high=0.3,\n",
    "    reference=reference\n",
    ")\n",
    "\n",
    "save(condom_use_idus)\n"
   ]
  },
  {
   "cell_type": "markdown",
   "metadata": {},
   "source": [
    "Can also estimate the total number of injections per year per IDUs. High and low are WAGs."
   ]
  },
  {
   "cell_type": "code",
   "execution_count": null,
   "metadata": {},
   "outputs": [],
   "source": [
    "reference = Reference(name=\"Assumed from Russian data. Notes from extractor: <30 : 64%, >= 30: 36, Potential for 2009 Bridging of HIV Transmission in the Russian Federation, http://www.springerlink.com/content/k24j760325026677/fulltext.pdf\")\n",
    "\n",
    "num_injections_idu_annual = Raw_input(\n",
    "    name=\"total number of injections per year per IDUs\",\n",
    "    slug=\"num_injections_idu_annual\",\n",
    "    value=264,\n",
    "    low=200,\n",
    "    high=300,\n",
    "    reference=reference\n",
    ")\n",
    "\n",
    "save(num_injections_idu_annual)"
   ]
  },
  {
   "cell_type": "markdown",
   "metadata": {},
   "source": [
    "We must also estimate their annual partnerships. High and low are WAGs."
   ]
  },
  {
   "cell_type": "code",
   "execution_count": null,
   "metadata": {},
   "outputs": [],
   "source": [
    "\n",
    "reference = Reference(name=\"Assumed from Tanzanian data. Notes from extractor: Reid, Savanna R. Injection Drug Use, Unsafe Medical Injections, and HIV in Africa: A Systematic Review. HRJ. ., n.d. Web. 25 Feb. 2013.\")\n",
    "\n",
    "partnerships_idus = Raw_input(\n",
    "    name=\"Annual partnerships, IDUs\",\n",
    "    slug=\"partnerships_idus\",\n",
    "    value=2.4,\n",
    "    low=2,\n",
    "    high=3,\n",
    "    reference=reference\n",
    ")\n",
    "\n",
    "save(partnerships_idus)\n",
    "\n"
   ]
  },
  {
   "cell_type": "markdown",
   "metadata": {},
   "source": [
    "We must also estimate the proportion of IDUs that are male"
   ]
  },
  {
   "cell_type": "code",
   "execution_count": null,
   "metadata": {},
   "outputs": [],
   "source": [
    "\n",
    "reference = Reference(name=\"Assumed\")\n",
    "\n",
    "prop_male_idus = Raw_input(\n",
    "    name=\"proportion of IDUs that are male\",\n",
    "    slug=\"prop_male_idus\",\n",
    "    value=0.80,\n",
    "    low=0.80,\n",
    "    high=0.80,\n",
    "    reference=reference\n",
    ")\n",
    "\n",
    "save(prop_male_idus)\n",
    "    "
   ]
  },
  {
   "cell_type": "markdown",
   "metadata": {},
   "source": [
    "###Disease progression\n",
    "\n",
    "TODO: This annual transition will not work because transfer from acute happens very quickly (6mo)."
   ]
  },
  {
   "cell_type": "code",
   "execution_count": null,
   "metadata": {},
   "outputs": [],
   "source": [
    "\n",
    "reference = Reference(name=\"Allistar\")\n",
    "\n",
    "acute_to_early_annual = Raw_input(\n",
    "    name=\"Annual proportion of acute that transfer to early\",\n",
    "    slug=\"acute_to_early_annual\",\n",
    "    value=1,\n",
    "    low=1,\n",
    "    high=1,\n",
    "    reference=reference\n",
    ")\n",
    "\n",
    "save(acute_to_early_annual)\n"
   ]
  },
  {
   "cell_type": "markdown",
   "metadata": {},
   "source": [
    "Now we should look at early to late"
   ]
  },
  {
   "cell_type": "code",
   "execution_count": null,
   "metadata": {},
   "outputs": [],
   "source": [
    "\n",
    "# same reference as before\n",
    "early_to_late_annual = Raw_input(\n",
    "    name=\"Early to late, annual\",\n",
    "    slug=\"early_to_late_annual\",\n",
    "    value=0.164,\n",
    "    low=0.15,\n",
    "    high=0.178,\n",
    "    reference=reference\n",
    ")\n",
    "\n",
    "save(early_to_late_annual)\n"
   ]
  },
  {
   "cell_type": "markdown",
   "metadata": {},
   "source": [
    "Now we should look at late to advanced/AIDS"
   ]
  },
  {
   "cell_type": "code",
   "execution_count": null,
   "metadata": {},
   "outputs": [],
   "source": [
    "\n",
    "late_to_adv_annual = Raw_input(\n",
    "    name=\"Late to advanced/AIDS\",\n",
    "    slug=\"late_to_adv_annual\",\n",
    "    value=0.26,\n",
    "    low=0.23,\n",
    "    high=0.29,\n",
    "    reference=reference\n",
    ")\n",
    "\n",
    "save(late_to_adv_annual)\n",
    "    "
   ]
  },
  {
   "cell_type": "markdown",
   "metadata": {},
   "source": [
    "##HIV mortality\n",
    "\n",
    "We can now look at mortality estimates from each of the different HIV states. Individuals cannot die of HIV in the acute phase."
   ]
  },
  {
   "cell_type": "code",
   "execution_count": null,
   "metadata": {},
   "outputs": [],
   "source": [
    "#same reference as above\n",
    "early_hiv_mortality_annual = Raw_input(\n",
    "    name=\"Early HIV mortality annual\",\n",
    "    slug=\"early_hiv_mortality_annual\",\n",
    "    value=0.008,\n",
    "    low=0.006,\n",
    "    high=0.01,\n",
    "    reference=reference\n",
    ")\n",
    "\n",
    "save(early_hiv_mortality_annual)"
   ]
  },
  {
   "cell_type": "markdown",
   "metadata": {},
   "source": [
    "And late phase"
   ]
  },
  {
   "cell_type": "code",
   "execution_count": null,
   "metadata": {},
   "outputs": [],
   "source": [
    "#same reference as above\n",
    "late_hiv_mortality_annual = Raw_input(\n",
    "    name=\"Late HIV mortality annual\",\n",
    "    slug=\"late_hiv_mortality_annual\",\n",
    "    value=0.09,\n",
    "    low=0.08,\n",
    "    high=0.1,\n",
    "    reference=reference\n",
    ")\n",
    "\n",
    "save(late_hiv_mortality_annual)"
   ]
  },
  {
   "cell_type": "markdown",
   "metadata": {},
   "source": [
    "And Advanced/AIDS"
   ]
  },
  {
   "cell_type": "code",
   "execution_count": null,
   "metadata": {},
   "outputs": [],
   "source": [
    "#same reference as above\n",
    "advanced_hiv_mortality_annual = Raw_input(\n",
    "    name=\"Advanced HIV mortality annual\",\n",
    "    slug=\"advanced_hiv_mortality_annual\",\n",
    "    value=0.45,\n",
    "    low=0.4,\n",
    "    high=0.5,\n",
    "    reference=reference\n",
    ")\n",
    "\n",
    "save(advanced_hiv_mortality_annual)"
   ]
  },
  {
   "cell_type": "markdown",
   "metadata": {},
   "source": [
    "##Transition probabilites\n",
    "\n",
    "We do not allow reverse transitions."
   ]
  },
  {
   "cell_type": "code",
   "execution_count": null,
   "metadata": {},
   "outputs": [],
   "source": [
    "\n",
    "# get TB resistance chain\n",
    "hiv_disease_chain = Chain.query.filter_by(name=\"HIV disease\").first()\n",
    "\n",
    "# Get states\n",
    "uninfected_state=State.query.filter_by(name=\"Uninfected\",chain=hiv_disease_chain).first()\n",
    "acute_state=State.query.filter_by(name=\"Acute\",chain=hiv_disease_chain).first()\n",
    "early_state=State.query.filter_by(name=\"Early\",chain=hiv_disease_chain).first()\n",
    "late_state=State.query.filter_by(name=\"Late\", chain=hiv_disease_chain).first()\n",
    "advanced_state=State.query.filter_by(name=\"Advanced/AIDS\", chain=hiv_disease_chain).first()\n",
    "death_state=State.query.filter_by(name=\"Death\", chain=hiv_disease_chain).first()\n",
    "\n",
    "acute_to_early_qt = convert_year_to_qt(acute_to_early_annual.value)\n",
    "early_to_late_qt = convert_year_to_qt(early_to_late_annual.value)\n",
    "late_to_adv_qt = convert_year_to_qt(late_to_adv_annual.value)\n"
   ]
  },
  {
   "cell_type": "markdown",
   "metadata": {},
   "source": [
    "### TPs in disease state"
   ]
  },
  {
   "cell_type": "code",
   "execution_count": null,
   "metadata": {},
   "outputs": [],
   "source": [
    "\n",
    "# Uninfected to acute\n",
    "save(Transition_probability(\n",
    "        From_state=uninfected_state,\n",
    "        To_state=acute_state,\n",
    "        Tp_base=0,\n",
    "        Is_dynamic=True\n",
    "    ))\n",
    "\n",
    "#Acute to early\n",
    "save(Transition_probability(\n",
    "    From_state=acute_state,\n",
    "    To_state=early_state,\n",
    "    Tp_base=acute_to_early_qt,\n",
    "    Is_dynamic=False\n",
    "))\n",
    "\n",
    "#Early to late\n",
    "\n",
    "save(Transition_probability(\n",
    "    From_state=early_state,\n",
    "    To_state=late_state,\n",
    "    Tp_base=early_to_late_qt,\n",
    "    Is_dynamic=False\n",
    "))\n",
    "    \n",
    "# Late to advanced\n",
    "\n",
    "save(Transition_probability(\n",
    "    From_state=late_state,\n",
    "    To_state=advanced_state,\n",
    "    Tp_base=late_to_adv_qt,\n",
    "    Is_dynamic=False\n",
    "))      \n"
   ]
  },
  {
   "cell_type": "markdown",
   "metadata": {},
   "source": [
    "###Mortality TPs"
   ]
  },
  {
   "cell_type": "code",
   "execution_count": null,
   "metadata": {},
   "outputs": [],
   "source": [
    "\n",
    "early_hiv_mortality_qt = convert_year_to_qt(early_hiv_mortality_annual.value)\n",
    "late_hiv_mortality_qt = convert_year_to_qt(late_hiv_mortality_annual.value)\n",
    "advanced_hiv_mortality_qt = convert_year_to_qt(advanced_hiv_mortality_annual.value)\n",
    "\n",
    "\n",
    "#Early to death\n",
    "\n",
    "save(Transition_probability(\n",
    "    From_state=early_state,\n",
    "    To_state=death_state,\n",
    "    Tp_base=early_hiv_mortality_qt,\n",
    "    Is_dynamic=False\n",
    "))\n",
    "    \n",
    "# Late to death\n",
    "\n",
    "save(Transition_probability(\n",
    "    From_state=late_state,\n",
    "    To_state=death_state,\n",
    "    Tp_base=late_hiv_mortality_qt,\n",
    "    Is_dynamic=False\n",
    "))    \n",
    "\n",
    "# Advanced to death\n",
    "\n",
    "save(Transition_probability(\n",
    "    From_state=advanced_state,\n",
    "    To_state=death_state,\n",
    "    Tp_base=advanced_hiv_mortality_qt,\n",
    "    Is_dynamic=False\n",
    "))    "
   ]
  },
  {
   "cell_type": "markdown",
   "metadata": {},
   "source": [
    "Now, we can visualize this chain:"
   ]
  },
  {
   "cell_type": "code",
   "execution_count": null,
   "metadata": {},
   "outputs": [],
   "source": [
    "link_tps_to_chains()\n",
    "visualize_chain(hiv_disease_chain)\n",
    "Image(filename='file.png')"
   ]
  },
  {
   "cell_type": "markdown",
   "metadata": {},
   "source": [
    "#HIV treatment\n",
    "\n",
    "First, let's build the states."
   ]
  },
  {
   "cell_type": "code",
   "execution_count": null,
   "metadata": {},
   "outputs": [],
   "source": [
    "# get TB chain\n",
    "hiv_treatment_chain = Chain.query.filter_by(name=\"HIV treatment\").first()\n",
    "\n",
    "# create the chains we need\n",
    "state_names = ['Uninfected', \"Untreated\", \"Treated\" ,'Death']\n",
    "for state_name in state_names:\n",
    "    the_state = State(name=state_name,chain=hiv_treatment_chain)\n",
    "    save(the_state)\n",
    "    \n",
    "# print chains from database\n",
    "State.query.filter_by(chain=hiv_treatment_chain).all()"
   ]
  },
  {
   "cell_type": "markdown",
   "metadata": {},
   "source": [
    "##Raw inputs\n",
    "\n",
    "Let's first import all the raw inputs. We can look at treatment drop out rate:"
   ]
  },
  {
   "cell_type": "code",
   "execution_count": null,
   "metadata": {},
   "outputs": [],
   "source": [
    "\n",
    "reference = Reference(name=\"Allistar\")\n",
    "\n",
    "hiv_treatment_drop_out_annual = Raw_input(\n",
    "    name=\"HIV treatment drop out\",\n",
    "    slug=\"hiv_treatment_drop_out_annual\",\n",
    "    value=0.02,\n",
    "    low=0,\n",
    "    high=0.02,\n",
    "    reference=reference\n",
    ")\n",
    "\n",
    "save(hiv_treatment_drop_out_annual)\n"
   ]
  },
  {
   "cell_type": "markdown",
   "metadata": {},
   "source": [
    "As well as treatment recruitment. High and low are WAG."
   ]
  },
  {
   "cell_type": "code",
   "execution_count": null,
   "metadata": {},
   "outputs": [],
   "source": [
    "\n",
    "#same reference as above\n",
    "\n",
    "hiv_treatment_recruitment_annual = Raw_input(\n",
    "    name=\"HIV treatment recruitment all states\",\n",
    "    slug=\"hiv_treatment_recruitment_annual\",\n",
    "    value=0.1,\n",
    "    low=0.05,\n",
    "    high=0.15,\n",
    "    reference=reference\n",
    ")\n",
    "\n",
    "save(hiv_treatment_recruitment_annual)"
   ]
  },
  {
   "cell_type": "markdown",
   "metadata": {},
   "source": [
    "##Transition probabilites\n",
    "\n",
    "Now we can build the transition probabilities."
   ]
  },
  {
   "cell_type": "code",
   "execution_count": null,
   "metadata": {},
   "outputs": [],
   "source": [
    "# get TB resistance chain\n",
    "tb_treatment_chain = Chain.query.filter_by(name=\"TB treatment\").first()\n",
    "\n",
    "# convert annual to quarterly\n",
    "hiv_treatment_drop_out_qt = convert_year_to_qt(hiv_treatment_drop_out_annual.value)\n",
    "hiv_treatment_recruitment_qt = convert_year_to_qt(hiv_treatment_recruitment_annual.value)\n",
    "\n",
    "# Get states\n",
    "uninfected_state=State.query.filter_by(name=\"Uninfected\",chain=hiv_treatment_chain).first()\n",
    "untreated_state=State.query.filter_by(name=\"Untreated\",chain=hiv_treatment_chain).first()\n",
    "treated_state=State.query.filter_by(name=\"Treated\", chain=hiv_treatment_chain).first()\n",
    "death_state=State.query.filter_by(name=\"Death\", chain=hiv_treatment_chain).first()\n",
    "\n",
    "# Uninfected to untreated\n",
    "save(Transition_probability(\n",
    "    From_state=uninfected_state,\n",
    "    To_state=untreated_state,\n",
    "    Is_dynamic=True\n",
    "))\n",
    "\n",
    "# Untreated to treated\n",
    "save(Transition_probability(\n",
    "    From_state=untreated_state,\n",
    "    To_state=treated_state,\n",
    "    Tp_base=hiv_treatment_recruitment_qt,\n",
    "    Is_dynamic=False\n",
    "))\n",
    "\n",
    "# Treated to untreated (ie, drop outs)\n",
    "save(Transition_probability(\n",
    "    From_state=treated_state,\n",
    "    To_state=untreated_state,\n",
    "    Tp_base=hiv_treatment_drop_out_qt,\n",
    "    Is_dynamic=False\n",
    "))"
   ]
  },
  {
   "cell_type": "markdown",
   "metadata": {},
   "source": [
    "We can now visualize this chain."
   ]
  },
  {
   "cell_type": "code",
   "execution_count": null,
   "metadata": {},
   "outputs": [],
   "source": [
    "link_tps_to_chains()\n",
    "visualize_chain(hiv_treatment_chain)\n",
    "Image(filename='file.png')"
   ]
  },
  {
   "cell_type": "markdown",
   "metadata": {},
   "source": [
    "#HIV risk groups\n",
    "\n",
    "In addition to the disease chains, we need a demopgraphics chain to allow for the calculation of dynamic transition probabilities for the HIV infection transition."
   ]
  },
  {
   "cell_type": "code",
   "execution_count": null,
   "metadata": {},
   "outputs": [],
   "source": [
    "# get TB chain\n",
    "hiv_risk_groups_chain = Chain.query.filter_by(name=\"HIV risk groups\").first()\n",
    "\n",
    "# create the chains we need\n",
    "state_names = ['General population male', 'General population female', 'Sex worker', 'IDU male', 'IDU female', 'MSM', 'Death']\n",
    "for state_name in state_names:\n",
    "    the_state = State(name=state_name,chain=hiv_risk_groups_chain)\n",
    "    save(the_state)\n",
    "    \n",
    "# print chains from database\n",
    "State.query.filter_by(chain=hiv_risk_groups_chain).all()"
   ]
  },
  {
   "cell_type": "markdown",
   "metadata": {},
   "source": [
    "##Raw inputs\n",
    "\n",
    "First, let's record how many people are in each category."
   ]
  },
  {
   "cell_type": "code",
   "execution_count": null,
   "metadata": {},
   "outputs": [],
   "source": [
    "\n",
    "reference = Reference(name=\"WDI 2011, http://data.worldbank.org/country/south-africa\")\n",
    "\n",
    "# Men\n",
    "\n",
    "num_gen_pop_men = Raw_input(\n",
    "    name=\"Number of general population men\",\n",
    "    slug=\"num_gen_pop_men\",\n",
    "    value=13351277,\n",
    "    low=13351277,\n",
    "    high=13351277,\n",
    "    reference=reference\n",
    ")\n",
    "\n",
    "save(num_gen_pop_men)\n",
    "\n",
    "# Women\n",
    "\n",
    "reference = Reference(name=\"http://www.prb.org/pdf11/world-women-girls-2011-data-sheet.pdf, 2011\")\n",
    "\n",
    "num_gen_pop_women = Raw_input(\n",
    "    name=\"Number of general population women\",\n",
    "    slug=\"num_gen_pop_women\",\n",
    "    value=13621000,\n",
    "    low=13621000,\n",
    "    high=13621000,\n",
    "    reference=reference\n",
    ")\n",
    "\n",
    "save(num_gen_pop_women)\n",
    "\n",
    "# IDU\n",
    "\n",
    "reference = Reference(name=\"2009 http://www.harmreductionjournal.com/content/6/1/24/table/T2 table 2    IDU prevalence in 2008 was 0.15% of the population *value was extrapolated\")\n",
    "\n",
    "num_idu = Raw_input(\n",
    "    name=\"Number of IDUs\",\n",
    "    slug=\"num_idu\",\n",
    "    value=13621000,\n",
    "    low=13621000,\n",
    "    high=13621000,\n",
    "    reference=reference\n",
    ")\n",
    "\n",
    "save(num_idu)\n",
    "\n",
    "# MSM\n",
    "\n",
    "reference = Reference(name=\"2006 study of rural south african men, Factors associated with HIV sero-positivity in young, rural South African men, http://www.ncbi.nlm.nih.gov/pubmed/17030525    3.6% extrapolated to total population of men ** limited sample area\")\n",
    "\n",
    "num_msm = Raw_input(\n",
    "    name=\"Number of MSM\",\n",
    "    slug=\"num_msm\",\n",
    "    value=13621000,\n",
    "    low=13621000,\n",
    "    high=13621000,\n",
    "    reference=reference\n",
    ")\n",
    "\n",
    "save(num_msm)\n",
    "    \n",
    "# CSW\n",
    "\n",
    "reference = Reference(name=\"Assumed, 0.2% of women\")\n",
    "\n",
    "num_csw = Raw_input(\n",
    "    name=\"Number of CSW\",\n",
    "    slug=\"num_csw\",\n",
    "    value=27242,\n",
    "    low=27242,\n",
    "    high=27242,\n",
    "    reference=reference\n",
    ")\n",
    "\n",
    "save(num_csw)\n"
   ]
  },
  {
   "cell_type": "markdown",
   "metadata": {},
   "source": [
    "##Transition probabilites\n",
    "\n",
    "Since data is lacking regarding the transition from one demopgraphic group to the next, many of these variabels will need to be determined through calibration. Also, many of these variables don't have \"raw data\" associated with them, so you will note that we're adding values directly into the transition probabilites."
   ]
  },
  {
   "cell_type": "code",
   "execution_count": null,
   "metadata": {},
   "outputs": [],
   "source": [
    "# get TB resistance chain\n",
    "hiv_risk_groups_chain = Chain.query.filter_by(name=\"HIV risk groups\").first()\n",
    "\n",
    "# Get states\n",
    "\n",
    "general_population_male_state =State.query.filter_by(name=\"General population male\", chain=hiv_risk_groups_chain).first()\n",
    "general_population_female_state =State.query.filter_by(name=\"General population female\", chain=hiv_risk_groups_chain).first()\n",
    "sex_worker_state =State.query.filter_by(name=\"Sex worker\", chain=hiv_risk_groups_chain).first()\n",
    "idu_male_state =State.query.filter_by(name=\"IDU male\", chain=hiv_risk_groups_chain).first()\n",
    "idu_female_state =State.query.filter_by(name=\"IDU female\", chain=hiv_risk_groups_chain).first()\n",
    "msm_state =State.query.filter_by(name=\"MSM\", chain=hiv_risk_groups_chain).first()\n",
    "death_state =State.query.filter_by(name=\"Death\", chain=hiv_risk_groups_chain).first()\n"
   ]
  },
  {
   "cell_type": "markdown",
   "metadata": {},
   "source": [
    "###Sex workers"
   ]
  },
  {
   "cell_type": "code",
   "execution_count": null,
   "metadata": {},
   "outputs": [],
   "source": [
    " \n",
    "# Initiation rate - WAG\n",
    "\n",
    "save(Transition_probability(\n",
    "    From_state=general_population_female_state,\n",
    "    To_state=sex_worker_state,\n",
    "    Tp_base=0.01,\n",
    "    Is_dynamic=False\n",
    "))\n",
    "\n",
    "# Quit rate - WAG\n",
    "\n",
    "save(Transition_probability(\n",
    "    From_state=sex_worker_state,\n",
    "    To_state=general_population_female_state,\n",
    "    Tp_base=0.01,\n",
    "    Is_dynamic=False\n",
    "))\n"
   ]
  },
  {
   "cell_type": "markdown",
   "metadata": {},
   "source": [
    "###MSM"
   ]
  },
  {
   "cell_type": "code",
   "execution_count": null,
   "metadata": {},
   "outputs": [],
   "source": [
    " \n",
    "# Initiation rate - WAG\n",
    "\n",
    "save(Transition_probability(\n",
    "    From_state=general_population_male_state,\n",
    "    To_state=msm_state,\n",
    "    Tp_base=0.0027,\n",
    "    Is_dynamic=False\n",
    "))\n",
    "    \n"
   ]
  },
  {
   "cell_type": "markdown",
   "metadata": {},
   "source": [
    "###IDUs"
   ]
  },
  {
   "cell_type": "code",
   "execution_count": null,
   "metadata": {},
   "outputs": [],
   "source": [
    "\n",
    "# Initiation rate - Men - WAG\n",
    "\n",
    "save(Transition_probability(\n",
    "    From_state=general_population_male_state,\n",
    "    To_state=idu_male_state,\n",
    "    Tp_base=0.0008,\n",
    "    Is_dynamic=False\n",
    "))\n",
    "\n",
    "# Initiation rate - Women - WAG\n",
    "\n",
    "save(Transition_probability(\n",
    "    From_state=general_population_female_state,\n",
    "    To_state=idu_female_state,\n",
    "    Tp_base=0.0006,\n",
    "    Is_dynamic=False\n",
    "))\n",
    "\n",
    "# Quit rate - Men - WAG\n",
    "\n",
    "save(Transition_probability(\n",
    "    From_state=idu_male_state,\n",
    "    To_state=general_population_male_state,\n",
    "    Tp_base=0.0007,\n",
    "    Is_dynamic=False\n",
    "))\n",
    "\n",
    "# Quit rate - Women - WAG\n",
    "\n",
    "save(Transition_probability(\n",
    "    From_state=idu_female_state,\n",
    "    To_state=general_population_female_state,\n",
    "    Tp_base=0.0007,\n",
    "    Is_dynamic=False\n",
    "))\n",
    "\n",
    "# IDUs have a higher death rate - this additional death rate occurs on top of normal death rate - TODO: Is this a realistic number?\n",
    "\n",
    "# Death rate - Men - WAG\n",
    "\n",
    "save(Transition_probability(\n",
    "    From_state=idu_male_state,\n",
    "    To_state=death_state,\n",
    "    Tp_base=0.0007,\n",
    "    Is_dynamic=False\n",
    "))\n",
    "\n",
    "# Death rate - Women - WAG\n",
    "\n",
    "save(Transition_probability(\n",
    "    From_state=idu_female_state,\n",
    "    To_state=death_state,\n",
    "    Tp_base=0.0007,\n",
    "    Is_dynamic=False\n",
    "))\n"
   ]
  },
  {
   "cell_type": "markdown",
   "metadata": {},
   "source": [
    "We can now visualize this chain."
   ]
  },
  {
   "cell_type": "code",
   "execution_count": null,
   "metadata": {},
   "outputs": [],
   "source": [
    "link_tps_to_chains()\n",
    "visualize_chain(hiv_risk_groups_chain)\n",
    "Image(filename='file.png')"
   ]
  },
  {
   "cell_type": "markdown",
   "metadata": {},
   "source": [
    "#Diabetes disease\n",
    "\n",
    "Now we can move on to building the diabetes related chains. Because we want treated diabetes to have a different interaction with TB than untreated diabetes, we need to have these as one chain."
   ]
  },
  {
   "cell_type": "code",
   "execution_count": null,
   "metadata": {},
   "outputs": [],
   "source": [
    "# get TB chain\n",
    "diabetes_disease_and_treatment = Chain.query.filter_by(name=\"Diabetes disease and treatment\").first()\n",
    "\n",
    "# create the chains we need\n",
    "state_names = [\"No diabetes\", \"Pre-diabetes\", \n",
    "\"Uncomplicated diabetes untreated\", \"Uncomplicated diabetes treated\",\n",
    " \"Complicated diabetes untreated (non-CVD)\", \n",
    " \"Complicated diabetes untreated (CVD)\", \n",
    " \"Complicated diabetes treated (non-CVD)\", \n",
    " \"Complicated diabetes treated (CVD)\", \"Death\" ]\n",
    "\n",
    "\n",
    "for state_name in state_names:\n",
    "    the_state = State(name=state_name,chain=diabetes_disease_and_treatment)\n",
    "    save(the_state)\n",
    "    \n",
    "# print chains from database\n",
    "print State.query.filter_by(chain=diabetes_disease_and_treatment).all()"
   ]
  }
 ],
 "metadata": {},
 "nbformat": 4,
 "nbformat_minor": 0
}
