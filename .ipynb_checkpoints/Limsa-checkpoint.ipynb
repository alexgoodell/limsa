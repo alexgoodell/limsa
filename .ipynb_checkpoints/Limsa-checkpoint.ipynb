{
 "cells": [
  {
   "cell_type": "markdown",
   "metadata": {},
   "source": [
    "#Limsa\n",
    "_Locally-interacting Markov models for HIV, TB, DM in South Africa_\n",
    "\n",
    "This is an IPython/Jupyter notebook. It is a method for creating reproducable research. Essentially, it is a way to show \"literate programming\", or very well-documented code for scientific processes. It mixes normal text with code blocks that can be run and re-run independently. \n",
    "\n",
    "The purpose of this IPython notebook is to organize the data that will be used to creat the limsa model in Go. Normally, I would complete this \"pre-processing\" task in Excel, but I want to try something more detailed and reproducible. \n",
    "\n",
    "This notebook is connected to a python application and database that will store all the tables for the Limsa model. As we progress, we will build these tables. *All changes to the database should be made through this notebook, so a record of all changes is available.* \n",
    "\n",
    "The database has tables:\n",
    "* Chains\n",
    "* States\n",
    "* Transition probabilities\n",
    "* Interactions\n",
    "* References\n",
    "* Raw inputs\n",
    "\n",
    "The Go model will then use these tables to run the model.\n"
   ]
  },
  {
   "cell_type": "code",
   "execution_count": 10,
   "metadata": {
    "collapsed": false
   },
   "outputs": [],
   "source": [
    "#connect to application\n",
    "from app import * \n",
    "#this gives us access to the database through a variables \"db\"\n",
    "def save(thing):\n",
    "    if thing == None:\n",
    "        raise ValueError('Nothing to save')\n",
    "    else:\n",
    "        db.session.add(thing)\n",
    "        db.session.commit()\n",
    "    \n",
    "# remove any past problematic sessions\n",
    "db.session.rollback()\n",
    "\n",
    "# create all tables\n",
    "db.drop_all()\n",
    "db.create_all()\n",
    "    \n",
    "# drop any chains in db\n",
    "db.session.query(Chain).delete()\n",
    "db.session.commit()\n",
    "    \n",
    "# drop any states in db\n",
    "db.session.query(State).delete()\n",
    "db.session.commit()\n",
    "\n",
    "# drop any raw inputs in db\n",
    "db.session.query(Raw_input).delete()\n",
    "db.session.commit()\n",
    "\n",
    "# drop any references in db\n",
    "db.session.query(Reference).delete()\n",
    "db.session.commit()"
   ]
  },
  {
   "cell_type": "markdown",
   "metadata": {
    "collapsed": false
   },
   "source": [
    "First, let's create the different chains the model will need."
   ]
  },
  {
   "cell_type": "code",
   "execution_count": 11,
   "metadata": {
    "collapsed": false
   },
   "outputs": [
    {
     "data": {
      "text/plain": [
       "[TB disease,\n",
       " TB treatment,\n",
       " TB resistance,\n",
       " HIV disease,\n",
       " HIV treatment,\n",
       " HIV risk groups,\n",
       " Setting,\n",
       " Diabetes disease and treatment]"
      ]
     },
     "execution_count": 11,
     "metadata": {},
     "output_type": "execute_result"
    }
   ],
   "source": [
    "# create the chains we need\n",
    "chain_names = ['TB disease', 'TB treatment', 'TB resistance',\n",
    "          'HIV disease', 'HIV treatment', 'HIV risk groups',\n",
    "          'Setting', 'Diabetes disease and treatment']\n",
    "for chain_name in chain_names:\n",
    "    the_chain = Chain(name=chain_name)\n",
    "    save(the_chain)\n",
    "    \n",
    "# print chains from database\n",
    "Chain.query.all()"
   ]
  },
  {
   "cell_type": "markdown",
   "metadata": {
    "collapsed": true
   },
   "source": [
    "#TB\n",
    "\n",
    "Great. Now let's work on the TB disease chain. \n",
    "\n",
    "###States\n",
    "\n",
    "First, let's define the different TB states. Here is our state-transition diagram:\n",
    "\n",
    "![](static/imgs/tb.jpg)"
   ]
  },
  {
   "cell_type": "code",
   "execution_count": 12,
   "metadata": {
    "collapsed": false
   },
   "outputs": [
    {
     "data": {
      "text/plain": [
       "[Uninfected,\n",
       " Fast latent,\n",
       " Slow latent,\n",
       " Non-infectious active,\n",
       " Infectious active,\n",
       " Death]"
      ]
     },
     "execution_count": 12,
     "metadata": {},
     "output_type": "execute_result"
    }
   ],
   "source": [
    "# get TB chain\n",
    "tb_chain = Chain.query.filter_by(name=\"TB\").first()\n",
    "\n",
    "# create the chains we need\n",
    "state_names = ['Uninfected', 'Fast latent', \n",
    "                'Slow latent', 'Non-infectious active', \n",
    "                'Infectious active', 'Death']\n",
    "for state_name in state_names:\n",
    "    the_state = State(name=state_name)\n",
    "    save(the_state)\n",
    "    \n",
    "# print chains from database\n",
    "State.query.filter_by(chain=tb_chain).all()"
   ]
  },
  {
   "cell_type": "markdown",
   "metadata": {},
   "source": [
    "###Gathering raw inputs\n",
    "\n",
    "The transition from ``uninfected`` to any of the infected states is a function of how many people are infected with TB. This will be calculated dynamically, based on the estimated number of contacts and infectivity of contacts. In order to be able to use this data in the Go model, I've created a table called `Raw_inputs`. Let's save this information there. Each Raw_inputs row has a `value`, which represents its base value, as well as a verbose `name`, a `high` and `low`. In addition, there is a `slug`. This is a shortened version of the name, and it will be imported and accessable from the Go code. This is accomplished by begining the project setup with a Makefile (or setup.py) that writes a Go file importing these variables as slugs. Yes - the python program will *write* a Go program.\n",
    "\n",
    "It has been shown that people with infectious TB can infect 10-15 people through close contact per year. This can be used to calculate our base case transmissability coefficient, although calibration will be needed."
   ]
  },
  {
   "cell_type": "code",
   "execution_count": 13,
   "metadata": {
    "collapsed": false
   },
   "outputs": [],
   "source": [
    "# Let's use the mean as the value\n",
    "\n",
    "low = 10.0\n",
    "high = 15.0\n",
    "value = (low+high)/2.0\n",
    "\n",
    "# First save reference\n",
    "bibtex = '''\n",
    "@article{sanchez1997uncertainty,\n",
    "  title={Uncertainty and sensitivity analysis of the basic reproductive rate: tuberculosis as an example},\n",
    "  author={Sanchez, Melissa A and Blower, Sally M},\n",
    "  journal={American Journal of Epidemiology},\n",
    "  volume={145},\n",
    "  number={12},\n",
    "  pages={1127--1137},\n",
    "  year={1997},\n",
    "  publisher={Oxford Univ Press}\n",
    "}\n",
    "'''\n",
    "\n",
    "reference = Reference(name=\"Sanchez 1997\",bibtex=bibtex)\n",
    "save(reference)\n",
    "\n",
    "# Save input\n",
    "number_of_infections_per_infected = Raw_input(\n",
    "    name=\"Number of TB infections per TB infected\",\n",
    "    slug=\"number_of_infections_per_infected\"\n",
    "    value=value,\n",
    "    low=low,\n",
    "    high=high,\n",
    "    reference=reference\n",
    ")\n",
    "save(number_of_infections_per_infected)"
   ]
  },
  {
   "cell_type": "markdown",
   "metadata": {},
   "source": [
    "\n",
    "\n",
    "\n",
    "\n",
    "\n",
    "\n",
    "\n",
    "\n",
    "\n",
    "\n",
    "\n",
    "\n",
    "\n",
    "\n",
    "\n",
    "\n",
    "\n",
    "\n",
    "\n",
    "\n",
    "\n",
    "\n",
    "\n",
    "\n",
    "\n",
    "\n",
    "\n",
    "\n",
    "\n",
    "\n",
    "\n",
    "\n",
    "\n",
    "\n",
    "\n",
    "\n",
    "\n",
    "\n",
    "\n"
   ]
  },
  {
   "cell_type": "markdown",
   "metadata": {
    "collapsed": true
   },
   "source": [
    "We should also create a variable that represents a transmissability coefficient to adjust during calibration"
   ]
  },
  {
   "cell_type": "code",
   "execution_count": 14,
   "metadata": {
    "collapsed": true
   },
   "outputs": [],
   "source": [
    "trans_coeff = Raw_input(name=\"TB transmissability coefficient\")\n",
    "save(trans_coeff)"
   ]
  },
  {
   "cell_type": "markdown",
   "metadata": {},
   "source": [
    "We will also need a variable to represent the % of individuals that become slow vs fast latent."
   ]
  },
  {
   "cell_type": "code",
   "execution_count": 15,
   "metadata": {
    "collapsed": false
   },
   "outputs": [],
   "source": [
    "## The majority develop slow latent\n",
    "name = '''\n",
    "Dye cite Sutherland 1968, 1976 Ferebee 1970, Comstock 1982, Sutherland et al 1982, \n",
    "Styblo 1986, Krishnamurthy et al 1976, Krishnamurthy & Chaudhuri 1990, Vynnycky 1996,\n",
    "Vynnycky & Fine 1997, this study\n",
    "'''\n",
    "\n",
    "reference = Reference(name=name)\n",
    "save(reference)\n",
    "\n",
    "prop_slow = Raw_input(\n",
    "    name=\"Proportion of individuals developing slow latent TB\",\n",
    "    slug=\"prop_slow\",\n",
    "    value = 0.86,\n",
    "    low = 0.75,\n",
    "    high = 0.92,\n",
    "    reference=reference\n",
    ")\n",
    "save(prop_slow)\n",
    "\n",
    "\n",
    "# Some develop fast latent (ie, progressive disease)\n",
    "# TODO this may just be calculated as 1-slow \n",
    "prop_fast = Raw_input(\n",
    "    name=\"Proportion of individuals developing fast latent TB\",\n",
    "    slug=\"prop_fast\",\n",
    "    value = 0.14,\n",
    "    low = 0.08,\n",
    "    high = 0.25,\n",
    "    reference=reference\n",
    ")\n",
    "save(prop_fast)"
   ]
  },
  {
   "cell_type": "markdown",
   "metadata": {
    "collapsed": true
   },
   "source": [
    "Next, we save the rate at which slow latent develop active disease, as an annual figure:"
   ]
  },
  {
   "cell_type": "code",
   "execution_count": 16,
   "metadata": {
    "collapsed": true
   },
   "outputs": [],
   "source": [
    "reference=Reference(name=\"Dye cite Horwitz et al 1969, Barnett et al 1971, Sutherland et al 1982, Styblo 1991, Vynnycky 1996, Vynnycky & Fine 1997, this study\")\n",
    "\n",
    "rate_slow_annual = Raw_input(\n",
    "    name=\"Annual rate at slow latent develop active disease\",\n",
    "    slug=\"rate_slow_annual\",\n",
    "    value=0.00013,\n",
    "    low=0.00010,\n",
    "    high=0.00030,\n",
    "    reference=reference)\n",
    "\n",
    "save(rate_slow_annual)"
   ]
  },
  {
   "cell_type": "markdown",
   "metadata": {},
   "source": [
    "Similarly, we have a rate at which fast latent develop active disease\n",
    "\n"
   ]
  },
  {
   "cell_type": "code",
   "execution_count": 18,
   "metadata": {
    "collapsed": false
   },
   "outputs": [],
   "source": [
    "reference=Reference(name=\"Basu cites: [5, 6, 18]\")\n",
    "\n",
    "rate_fast_annual = Raw_input(\n",
    "    name=\"Annual rate at fast latent develop active disease\",\n",
    "    slug=\"rate_fast_annual\",\n",
    "    value=0.88,\n",
    "\tlow=0.76,\n",
    "    high=0.99,\n",
    "    reference=reference)\n",
    "\n",
    "save(rate_fast_annual)"
   ]
  },
  {
   "cell_type": "markdown",
   "metadata": {},
   "source": [
    "It is also estimated that 65% of cases are infectious"
   ]
  },
  {
   "cell_type": "code",
   "execution_count": 19,
   "metadata": {
    "collapsed": true
   },
   "outputs": [],
   "source": [
    "reference=Reference(name=\"Dye cites: Styblo 1977, Murray et al 1993, Barnett & Styblo 1991\")\n",
    "\n",
    "prop_infectious = Raw_input(\n",
    "    name=\"Proportion of active cases that are infectious\",\n",
    "    slug=\"prop_infectious\",\n",
    "    value=0.65,\n",
    "    low=0.50,\n",
    "    high=0.65,\n",
    "    reference=reference\n",
    ")\n",
    "\n",
    "save(prop_infectious)\n"
   ]
  },
  {
   "cell_type": "markdown",
   "metadata": {},
   "source": [
    "This is also a rate of self-cure."
   ]
  },
  {
   "cell_type": "code",
   "execution_count": 21,
   "metadata": {
    "collapsed": false
   },
   "outputs": [],
   "source": [
    "reference=Reference(name=\"Dye cites: Springett 1971, Olakowski 1973, NTI 1974, Enarson & Rouillon 1994, Grzybowski & Enarson 1978\")\n",
    "\n",
    "rate_self_cure_annual = Raw_input(\n",
    "    name=\"Annual rate of self-cure\",\n",
    "    slug=\"rate_self_cure_annual\",\n",
    "    value=0.020,\n",
    "    low=0.15,\n",
    "    high=0.25,\n",
    "    reference=reference\n",
    ")\n",
    "\n",
    "save(rate_self_cure_annual)\n"
   ]
  },
  {
   "cell_type": "code",
   "execution_count": 24,
   "metadata": {
    "collapsed": false
   },
   "outputs": [
    {
     "data": {
      "text/plain": [
       "109"
      ]
     },
     "execution_count": 24,
     "metadata": {},
     "output_type": "execute_result"
    }
   ],
   "source": []
  },
  {
   "cell_type": "code",
   "execution_count": null,
   "metadata": {
    "collapsed": true
   },
   "outputs": [],
   "source": []
  }
 ],
 "metadata": {
  "kernelspec": {
   "display_name": "Python 2",
   "language": "python",
   "name": "python2"
  },
  "language_info": {
   "codemirror_mode": {
    "name": "ipython",
    "version": 2
   },
   "file_extension": ".py",
   "mimetype": "text/x-python",
   "name": "python",
   "nbconvert_exporter": "python",
   "pygments_lexer": "ipython2",
   "version": "2.7.5"
  }
 },
 "nbformat": 4,
 "nbformat_minor": 0
}
