{
 "cells": [
  {
   "cell_type": "markdown",
   "metadata": {},
   "source": [
    "#Limsa\n",
    "_Locally-interacting Markov models for HIV, TB, DM in South Africa_\n",
    "\n",
    "This is an IPython/Jupyter notebook. It is a method for creating reproducable research. Essentially, it is a way to show \"literate programming\", or very well-documented code for scientific processes. It mixes normal text with code blocks that can be run and re-run independently. \n",
    "\n",
    "The purpose of this IPython notebook is to organize the data that will be used to creat the limsa model in Go. Normally, I would complete this \"pre-processing\" task in Excel, but I want to try something more detailed and reproducible. \n",
    "\n",
    "This notebook is connected to a python application and database that will store all the tables for the Limsa model. As we progress, we will build these tables. *All changes to the database should be made through this notebook, so a record of all changes is available.* \n",
    "\n",
    "The database has tables:\n",
    "* Chains\n",
    "* States\n",
    "* Transition probabilities\n",
    "* Interactions\n",
    "* References\n",
    "* Raw inputs\n",
    "\n",
    "The Go model will then use these tables to run the model.\n"
   ]
  },
  {
   "cell_type": "code",
   "execution_count": 17,
   "metadata": {
    "collapsed": false
   },
   "outputs": [],
   "source": [
    "#connect to application\n",
    "from app import * \n",
    "#this gives us access to the database through a variables \"db\"\n",
    "def save(thing):\n",
    "    db.session.add(thing)\n",
    "    db.session.commit()"
   ]
  },
  {
   "cell_type": "markdown",
   "metadata": {
    "collapsed": false
   },
   "source": [
    "First, let's create the different chains the model will need."
   ]
  },
  {
   "cell_type": "code",
   "execution_count": 20,
   "metadata": {
    "collapsed": false
   },
   "outputs": [
    {
     "data": {
      "text/plain": [
       "[TB disease,\n",
       " TB treatment,\n",
       " TB resistance,\n",
       " HIV disease,\n",
       " HIV treatment,\n",
       " HIV risk groups,\n",
       " Setting,\n",
       " Diabetes disease and treatment]"
      ]
     },
     "execution_count": 20,
     "metadata": {},
     "output_type": "execute_result"
    }
   ],
   "source": [
    "# drop any chains in db\n",
    "db.session.query(Chain).delete()\n",
    "db.session.commit()\n",
    "\n",
    "# create the chains we need\n",
    "chain_names = ['TB disease', 'TB treatment', 'TB resistance',\n",
    "          'HIV disease', 'HIV treatment', 'HIV risk groups',\n",
    "          'Setting', 'Diabetes disease and treatment']\n",
    "for chain_name in chain_names:\n",
    "    the_chain = Chain(name=chain_name)\n",
    "    save(the_chain)\n",
    "    \n",
    "# print chains from database\n",
    "Chain.query.all()"
   ]
  },
  {
   "cell_type": "markdown",
   "metadata": {
    "collapsed": true
   },
   "source": [
    "##TB\n",
    "\n",
    "Great. Now let's work on the TB disease chain. \n",
    "\n",
    "First, let's define the different TB states. Here is our state-transition diagram:\n",
    "\n",
    "![](static/imgs/tb.jpg)"
   ]
  },
  {
   "cell_type": "code",
   "execution_count": null,
   "metadata": {
    "collapsed": true
   },
   "outputs": [],
   "source": []
  }
 ],
 "metadata": {
  "kernelspec": {
   "display_name": "Python 2",
   "language": "python",
   "name": "python2"
  },
  "language_info": {
   "codemirror_mode": {
    "name": "ipython",
    "version": 2
   },
   "file_extension": ".py",
   "mimetype": "text/x-python",
   "name": "python",
   "nbconvert_exporter": "python",
   "pygments_lexer": "ipython2",
   "version": "2.7.5"
  }
 },
 "nbformat": 4,
 "nbformat_minor": 0
}
