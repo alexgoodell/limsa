{
 "cells": [
  {
   "cell_type": "markdown",
   "metadata": {},
   "source": [
    "#Limsa\n",
    "_Locally-interacting Markov models for HIV, TB, DM in South Africa_\n",
    "\n",
    "This is an IPython/Jupyter notebook. It is a method for creating reproducable research. Essentially, it is a way to show \"literate programming\", or very well-documented code for scientific processes. It mixes normal text with code blocks that can be run and re-run independently. \n",
    "\n",
    "The purpose of this IPython notebook is to organize the data that will be used to creat the Limsa model in Go. Normally, I would complete this \"pre-processing\" task in Excel, but I want to try something more detailed and reproducible. \n",
    "\n",
    "This notebook is connected to a python application and database that will store all the tables for the Limsa model. As we progress, we will build these tables. *All changes to the database should be made through this notebook, so a record of all changes is available.* \n",
    "\n",
    "The database has tables:\n",
    "* Chains\n",
    "* States\n",
    "* Transition probabilities\n",
    "* Interactions\n",
    "* References\n",
    "* Raw inputs\n",
    "\n",
    "To view the results of the tables, visit: http://limsa.org/admin\n",
    "\n",
    "The Go model will then use these tables to run the model.\n"
   ]
  },
  {
   "cell_type": "code",
   "execution_count": 292,
   "metadata": {
    "collapsed": false
   },
   "outputs": [],
   "source": [
    "from IPython.display import Image\n",
    "#connect to application\n",
    "from app import * \n",
    "#this gives us access to the database through a variables \"db\"\n",
    "def save(thing):\n",
    "    if thing == None:\n",
    "        raise ValueError('Nothing to save')\n",
    "    else:\n",
    "        db.session.add(thing)\n",
    "        db.session.commit()\n",
    "    \n",
    "# remove any past problematic sessions\n",
    "db.session.rollback()\n",
    "\n",
    "# create all tables\n",
    "db.drop_all()\n",
    "db.create_all()\n",
    "    \n",
    "# drop any chains in db\n",
    "db.session.query(Chain).delete()\n",
    "db.session.commit()\n",
    "    \n",
    "# drop any states in db\n",
    "db.session.query(State).delete()\n",
    "db.session.commit()\n",
    "\n",
    "# drop any raw inputs in db\n",
    "db.session.query(Raw_input).delete()\n",
    "db.session.commit()\n",
    "\n",
    "# drop any references in db\n",
    "db.session.query(Reference).delete()\n",
    "db.session.commit()\n",
    "\n",
    "\n",
    "\n",
    "def link_tps_to_chains():\n",
    "    tps = Transition_probability.query.all()\n",
    "    for tp in tps:\n",
    "        from_state = tp.From_state\n",
    "        chain = from_state.Chain\n",
    "        tp.Chain = chain\n",
    "        save(tp)\n",
    "        \n",
    "def visualize_chain(chain):\n",
    "    tps = Transition_probability.query.filter_by(Chain=chain).all()\n",
    "    G=pgv.AGraph(directed=True, rankdir=\"LR\")\n",
    "    \n",
    "    for tp in tps:\n",
    "        G.add_node(tp.From_state.name, shape=\"box\", fontname=\"ArialMT\")\n",
    "        G.add_node(tp.To_state.name, shape=\"box\", fontname=\"ArialMT\")\n",
    "        if tp.Is_dynamic:\n",
    "            G.add_edge(tp.From_state.name, tp.To_state.name, label=\"Dynamic\", fontname=\"ArialMT\", fontsize=\"10\") # adds edge 'b'-'c' (and also nodes 'b', 'c')\n",
    "        else:\n",
    "            G.add_edge(tp.From_state.name, tp.To_state.name, label=tp.Tp_base, fontname=\"ArialMT\", fontsize=\"10\") # adds edge 'b'-'c' (and also nodes 'b', 'c')\n",
    "    G.layout(prog='dot')\n",
    "    G.draw('file.png')"
   ]
  },
  {
   "cell_type": "markdown",
   "metadata": {
    "collapsed": false
   },
   "source": [
    "First, let's create the different chains the model will need."
   ]
  },
  {
   "cell_type": "code",
   "execution_count": 293,
   "metadata": {
    "collapsed": false
   },
   "outputs": [
    {
     "data": {
      "text/plain": [
       "[TB disease,\n",
       " TB treatment,\n",
       " TB resistance,\n",
       " HIV disease,\n",
       " HIV treatment,\n",
       " HIV risk groups,\n",
       " Setting,\n",
       " Diabetes disease and treatment]"
      ]
     },
     "execution_count": 293,
     "metadata": {},
     "output_type": "execute_result"
    }
   ],
   "source": [
    "# create the chains we need\n",
    "chain_names = ['TB disease', 'TB treatment', 'TB resistance',\n",
    "          'HIV disease', 'HIV treatment', 'HIV risk groups',\n",
    "          'Setting', 'Diabetes disease and treatment']\n",
    "for chain_name in chain_names:\n",
    "    the_chain = Chain(name=chain_name)\n",
    "    save(the_chain)\n",
    "    \n",
    "# print chains from database\n",
    "Chain.query.all()"
   ]
  },
  {
   "cell_type": "markdown",
   "metadata": {
    "collapsed": true
   },
   "source": [
    "#TB Disease\n",
    "\n",
    "Great. Now let's work on the TB disease chain. \n",
    "\n",
    "###States\n",
    "\n",
    "First, let's define the different TB states. Here is our state-transition diagram:\n",
    "\n",
    "![](static/imgs/tb.jpg)"
   ]
  },
  {
   "cell_type": "code",
   "execution_count": 294,
   "metadata": {
    "collapsed": false
   },
   "outputs": [
    {
     "data": {
      "text/plain": [
       "[Uninfected,\n",
       " Fast latent,\n",
       " Slow latent,\n",
       " Non-infectious active,\n",
       " Infectious active,\n",
       " Self cure from non-infectious,\n",
       " Self cure from infectious,\n",
       " Death]"
      ]
     },
     "execution_count": 294,
     "metadata": {},
     "output_type": "execute_result"
    }
   ],
   "source": [
    "# get TB chain\n",
    "tb_chain = Chain.query.filter_by(name=\"TB disease\").first()\n",
    "\n",
    "# create the chains we need\n",
    "state_names = ['Uninfected', 'Fast latent', \n",
    "                'Slow latent', 'Non-infectious active', \n",
    "                'Infectious active', 'Self cure from non-infectious', \n",
    "               'Self cure from infectious','Death']\n",
    "for state_name in state_names:\n",
    "    the_state = State(name=state_name,chain=tb_chain)\n",
    "    save(the_state)\n",
    "    \n",
    "# print chains from database\n",
    "State.query.filter_by(chain=tb_chain).all()"
   ]
  },
  {
   "cell_type": "markdown",
   "metadata": {},
   "source": [
    "###Gathering raw inputs\n",
    "\n",
    "The transition from ``uninfected`` to any of the infected states is a function of how many people are infected with TB. This will be calculated dynamically, based on the estimated number of contacts and infectivity of contacts. In order to be able to use this data in the Go model, I've created a table called `Raw_inputs`. Let's save this information there. Each Raw_inputs row has a `value`, which represents its base value, as well as a verbose `name`, a `high` and `low`. In addition, there is a `slug`. This is a shortened version of the name, and it will be imported and accessable from the Go code. This is accomplished by begining the project setup with a Makefile (or setup.py) that writes a Go file importing these variables as slugs. Yes - the python program will *write* a Go program.\n",
    "\n",
    "It has been shown that people with infectious TB can infect 10-15 people through close contact per year. This can be used to calculate our base case transmissability coefficient, although calibration will be needed."
   ]
  },
  {
   "cell_type": "code",
   "execution_count": 295,
   "metadata": {
    "collapsed": false
   },
   "outputs": [],
   "source": [
    "# Let's use the mean as the value\n",
    "\n",
    "low = 10.0\n",
    "high = 15.0\n",
    "value = (low+high)/2.0\n",
    "\n",
    "# First save reference\n",
    "bibtex = '''\n",
    "@article{sanchez1997uncertainty,\n",
    "  title={Uncertainty and sensitivity analysis of the basic reproductive rate: tuberculosis as an example},\n",
    "  author={Sanchez, Melissa A and Blower, Sally M},\n",
    "  journal={American Journal of Epidemiology},\n",
    "  volume={145},\n",
    "  number={12},\n",
    "  pages={1127--1137},\n",
    "  year={1997},\n",
    "  publisher={Oxford Univ Press}\n",
    "}\n",
    "'''\n",
    "\n",
    "reference = Reference(name=\"Sanchez 1997\",bibtex=bibtex)\n",
    "save(reference)\n",
    "\n",
    "# Save input\n",
    "number_of_infections_per_infected = Raw_input(\n",
    "    name=\"Number of TB infections per TB infected\",\n",
    "    slug=\"number_of_infections_per_infected\",\n",
    "    value=value,\n",
    "    low=low,\n",
    "    high=high,\n",
    "    reference=reference\n",
    ")\n",
    "save(number_of_infections_per_infected)"
   ]
  },
  {
   "cell_type": "markdown",
   "metadata": {},
   "source": [
    "\n",
    "\n",
    "\n",
    "\n",
    "\n",
    "\n",
    "\n",
    "\n",
    "\n",
    "\n",
    "\n",
    "\n",
    "\n",
    "\n",
    "\n",
    "\n",
    "\n",
    "\n",
    "\n",
    "\n",
    "\n",
    "\n",
    "\n",
    "\n",
    "\n",
    "\n",
    "\n",
    "\n",
    "\n",
    "\n",
    "\n",
    "\n",
    "\n",
    "\n",
    "\n",
    "\n",
    "\n",
    "\n",
    "\n"
   ]
  },
  {
   "cell_type": "markdown",
   "metadata": {
    "collapsed": true
   },
   "source": [
    "We should also create a variable that represents a transmissability coefficient to adjust during calibration"
   ]
  },
  {
   "cell_type": "code",
   "execution_count": 296,
   "metadata": {
    "collapsed": true
   },
   "outputs": [],
   "source": [
    "trans_coeff = Raw_input(name=\"TB transmissability coefficient\")\n",
    "save(trans_coeff)"
   ]
  },
  {
   "cell_type": "markdown",
   "metadata": {},
   "source": [
    "We will also need a variable to represent the % of individuals that become slow vs fast latent."
   ]
  },
  {
   "cell_type": "code",
   "execution_count": 297,
   "metadata": {
    "collapsed": false
   },
   "outputs": [],
   "source": [
    "## The majority develop slow latent\n",
    "name = '''\n",
    "Dye cite Sutherland 1968, 1976 Ferebee 1970, Comstock 1982, Sutherland et al 1982, \n",
    "Styblo 1986, Krishnamurthy et al 1976, Krishnamurthy & Chaudhuri 1990, Vynnycky 1996,\n",
    "Vynnycky & Fine 1997, this study\n",
    "'''\n",
    "\n",
    "reference = Reference(name=name)\n",
    "save(reference)\n",
    "\n",
    "prop_slow = Raw_input(\n",
    "    name=\"Proportion of individuals developing slow latent TB\",\n",
    "    slug=\"prop_slow\",\n",
    "    value = 0.86,\n",
    "    low = 0.75,\n",
    "    high = 0.92,\n",
    "    reference=reference\n",
    ")\n",
    "save(prop_slow)\n",
    "\n",
    "\n",
    "# Some develop fast latent (ie, progressive disease)\n",
    "# TODO this may just be calculated as 1-slow \n",
    "prop_fast = Raw_input(\n",
    "    name=\"Proportion of individuals developing fast latent TB\",\n",
    "    slug=\"prop_fast\",\n",
    "    value = 0.14,\n",
    "    low = 0.08,\n",
    "    high = 0.25,\n",
    "    reference=reference\n",
    ")\n",
    "save(prop_fast)"
   ]
  },
  {
   "cell_type": "markdown",
   "metadata": {
    "collapsed": true
   },
   "source": [
    "Next, we save the rate at which slow latent develop active disease, as an annual figure:"
   ]
  },
  {
   "cell_type": "code",
   "execution_count": 298,
   "metadata": {
    "collapsed": true
   },
   "outputs": [],
   "source": [
    "reference=Reference(name=\"Dye cite Horwitz et al 1969, Barnett et al 1971, Sutherland et al 1982, Styblo 1991, Vynnycky 1996, Vynnycky & Fine 1997, this study\")\n",
    "\n",
    "rate_slow_annual = Raw_input(\n",
    "    name=\"Annual rate at slow latent develop active disease\",\n",
    "    slug=\"rate_slow_annual\",\n",
    "    value=0.00013,\n",
    "    low=0.00010,\n",
    "    high=0.00030,\n",
    "    reference=reference)\n",
    "\n",
    "save(rate_slow_annual)"
   ]
  },
  {
   "cell_type": "markdown",
   "metadata": {},
   "source": [
    "Similarly, we have a rate at which fast latent develop active disease\n",
    "\n"
   ]
  },
  {
   "cell_type": "code",
   "execution_count": 299,
   "metadata": {
    "collapsed": false
   },
   "outputs": [],
   "source": [
    "reference=Reference(name=\"Basu cites: [5, 6, 18]\")\n",
    "\n",
    "rate_fast_annual = Raw_input(\n",
    "    name=\"Annual rate at fast latent develop active disease\",\n",
    "    slug=\"rate_fast_annual\",\n",
    "    value=0.88,\n",
    "\tlow=0.76,\n",
    "    high=0.99,\n",
    "    reference=reference)\n",
    "\n",
    "save(rate_fast_annual)"
   ]
  },
  {
   "cell_type": "markdown",
   "metadata": {},
   "source": [
    "It is also estimated that 65% of cases are infectious"
   ]
  },
  {
   "cell_type": "code",
   "execution_count": 300,
   "metadata": {
    "collapsed": true
   },
   "outputs": [],
   "source": [
    "reference=Reference(name=\"Dye cites: Styblo 1977, Murray et al 1993, Barnett & Styblo 1991\")\n",
    "\n",
    "prop_infectious = Raw_input(\n",
    "    name=\"Proportion of active cases that are infectious\",\n",
    "    slug=\"prop_infectious\",\n",
    "    value=0.65,\n",
    "    low=0.50,\n",
    "    high=0.65,\n",
    "    reference=reference\n",
    ")\n",
    "\n",
    "save(prop_infectious)\n"
   ]
  },
  {
   "cell_type": "markdown",
   "metadata": {},
   "source": [
    "This is also a rate of self-cure."
   ]
  },
  {
   "cell_type": "code",
   "execution_count": 301,
   "metadata": {
    "collapsed": false
   },
   "outputs": [],
   "source": [
    "reference=Reference(name=\"Dye cites: Springett 1971, Olakowski 1973, NTI 1974, Enarson & Rouillon 1994, Grzybowski & Enarson 1978\")\n",
    "\n",
    "rate_self_cure_annual = Raw_input(\n",
    "    name=\"Annual rate of self-cure\",\n",
    "    slug=\"rate_self_cure_annual\",\n",
    "    value=0.020,\n",
    "    low=0.15,\n",
    "    high=0.25,\n",
    "    reference=reference\n",
    ")\n",
    "\n",
    "save(rate_self_cure_annual)\n"
   ]
  },
  {
   "cell_type": "markdown",
   "metadata": {},
   "source": [
    "And an ability to replase from self cure"
   ]
  },
  {
   "cell_type": "code",
   "execution_count": 302,
   "metadata": {
    "collapsed": true
   },
   "outputs": [],
   "source": [
    "reference=Reference(name=\"Dye cites: Springett 1961, Grzybowski et al 1965, Ferebee 1970, Chan-Yeung et al 1971, Campbell 1974, Nakielna et al 1975, Styblo 1986\")\n",
    "\n",
    "rate_relapse_from_self_cure_annual = Raw_input(\n",
    "    name=\"Annual rate of relapse from self-cure\",\n",
    "    slug=\"rate_relapse_from_self_cure_annual\",\n",
    "    value=0.03,\n",
    "    low=0.02,\n",
    "    high=0.04,\n",
    "    reference=reference\n",
    ")\n",
    "\n",
    "save(rate_relapse_from_self_cure_annual)\n"
   ]
  },
  {
   "cell_type": "markdown",
   "metadata": {},
   "source": [
    "Individuals can also convert from non-infectious to infection at a specified rate"
   ]
  },
  {
   "cell_type": "code",
   "execution_count": null,
   "metadata": {
    "collapsed": true
   },
   "outputs": [],
   "source": []
  },
  {
   "cell_type": "code",
   "execution_count": 303,
   "metadata": {
    "collapsed": true
   },
   "outputs": [],
   "source": [
    "reference = Reference(name=\"Dye cites Ferebee 1970, HKCS 1974\")\n",
    "\n",
    "rate_conversion_annual = Raw_input(\n",
    "    name=\"Annual rate of conversion from non-infectious to infectious\",\n",
    "    slug=\"rate_conversion_annual\",\n",
    "    value = 0.015,\n",
    "    low =0.007,\n",
    "    high = 0.02,\n",
    "    reference=reference)\n",
    "\n",
    "save(rate_conversion_annual)"
   ]
  },
  {
   "cell_type": "markdown",
   "metadata": {},
   "source": [
    "####Mortality\n",
    "\n",
    "Individuals can die of infectious active TB as well as non-infectious active TB."
   ]
  },
  {
   "cell_type": "code",
   "execution_count": 304,
   "metadata": {
    "collapsed": false
   },
   "outputs": [],
   "source": [
    "#### infectious TB\n",
    "reference = Reference(name=\"Dye who cites Rutledge & Crouch 1919, Berg 1939, Drolet 1938, Thompson 1943, Tatersall 1947, Lowe 1954, Springett 1971, NTI 1974, Grzybowski & Enarson 1978\")\n",
    "\n",
    "infect_tb_mort_annual = Raw_input(\n",
    "    name=\"Yearly mortality from infectious TB\",\n",
    "    slug=\"infect_tb_mort_annual\",\n",
    "    value=0.30,\n",
    "    low=0.20,\n",
    "    high=0.40,\n",
    "    reference=reference\n",
    ")\n",
    "save(infect_tb_mort_annual)\n",
    "\n",
    "reference = Reference(name=\"Dye who cites Lindhart 1939, Murray et al 1993\")\n",
    "\n",
    "noninfect_tb_mort_annual = Raw_input(\n",
    "    name=\"Yearly mortality from non-infectious TB\",\n",
    "    slug=\"noninfect_tb_mort_annual\",\n",
    "    value=0.21,\n",
    "    low=0.18,\n",
    "    high=0.25,\n",
    "    reference=reference\n",
    ")\n",
    "\n",
    "save(noninfect_tb_mort_annual)\n"
   ]
  },
  {
   "cell_type": "markdown",
   "metadata": {},
   "source": [
    "### Transition probabilities\n",
    "\n",
    "Now, we can fill in the basic transition probabilties for this chain. "
   ]
  },
  {
   "cell_type": "code",
   "execution_count": 305,
   "metadata": {
    "collapsed": false
   },
   "outputs": [],
   "source": [
    "# For later visualizaton scripts\n",
    "import pygraphviz as pgv\n",
    "import time\n",
    "\n",
    "\n",
    "# In order to convert yearly rates to quarterly rates, we use the following function\n",
    "# TODO this is not really true - to discuss\n",
    "def convert_year_to_qt(value):\n",
    "    return value/4\n",
    "\n",
    "\n",
    "# TODO: Run PSA changes here?\n",
    "\n",
    "# TODO: should there be a function that fills in recursive TPs?\n",
    "\n",
    "# get all states of the TB disease chain\n",
    "uninfected_state=State.query.filter_by(name=\"Uninfected\",chain=tb_chain).first()\n",
    "fast_latent_state=State.query.filter_by(name=\"Fast latent\",chain=tb_chain).first()\n",
    "slow_latent_state=State.query.filter_by(name=\"Slow latent\", chain=tb_chain).first()\n",
    "noninfectious_active_state=State.query.filter_by(name=\"Non-infectious active\", chain=tb_chain).first()\n",
    "infectious_active_state=State.query.filter_by(name=\"Infectious active\", chain=tb_chain).first()\n",
    "self_cure_from_noninfectious = State.query.filter_by(name=\"Self cure from non-infectious\", chain=tb_chain).first()\n",
    "self_cure_from_infectious = State.query.filter_by(name=\"Self cure from infectious\", chain=tb_chain).first()\n",
    "death_state=State.query.filter_by(name=\"Death\", chain=tb_chain).first()\n",
    "\n",
    "#Infection to fast latent\n",
    "save(Transition_probability(\n",
    "    From_state=uninfected_state,\n",
    "    To_state=fast_latent_state,\n",
    "    Is_dynamic=True\n",
    "))\n",
    "\n",
    "\n",
    "\n",
    "\n",
    "# Infection to slow latent\n",
    "save(Transition_probability(\n",
    "    From_state=uninfected_state,\n",
    "    To_state=slow_latent_state,\n",
    "    Is_dynamic=True\n",
    "))\n",
    "\n",
    "# Slow latent to non-infectious active\n",
    "\n",
    "slow_to_noninfectious_active = convert_year_to_qt(rate_slow_annual.value*(1.0-prop_infectious.value))\n",
    "\n",
    "save(Transition_probability(\n",
    "    From_state=slow_latent_state,\n",
    "    To_state=noninfectious_active_state,\n",
    "    Tp_base=slow_to_noninfectious_active\n",
    "))\n",
    "\n",
    "# Slow latent to infectious active\n",
    "\n",
    "slow_to_infectious_active = convert_year_to_qt(rate_slow_annual.value*prop_infectious.value)\n",
    "\n",
    "save(Transition_probability(\n",
    "    From_state=slow_latent_state,\n",
    "    To_state=infectious_active_state,\n",
    "    Tp_base=slow_to_infectious_active\n",
    "))\n",
    "\n",
    "# Fast latent to non-infectious active\n",
    "\n",
    "fast_to_noninfectious_active = convert_year_to_qt(rate_fast_annual.value*(1.0-prop_infectious.value))\n",
    "\n",
    "save(Transition_probability(\n",
    "    From_state=fast_latent_state,\n",
    "    To_state=noninfectious_active_state,\n",
    "    Tp_base=fast_to_noninfectious_active\n",
    "))\n",
    "\n",
    "# Fast latent to infectious active\n",
    "\n",
    "fast_to_infectious_active = convert_year_to_qt(rate_fast_annual.value*prop_infectious.value)\n",
    "\n",
    "save(Transition_probability(\n",
    "    From_state=fast_latent_state,\n",
    "    To_state=infectious_active_state,\n",
    "    Tp_base=fast_to_infectious_active\n",
    "))\n",
    "\n",
    "# Self cure - infectious\n",
    "\n",
    "rate_self_cure_qt = convert_year_to_qt(rate_self_cure_annual.value)\n",
    "\n",
    "save(Transition_probability(\n",
    "    From_state=infectious_active_state,\n",
    "    To_state=self_cure_from_infectious,\n",
    "    Tp_base=rate_self_cure_qt\n",
    "))\n",
    "\n",
    "# Self cure - noninfectious\n",
    "\n",
    "rate_self_cure_qt = convert_year_to_qt(rate_self_cure_annual.value)\n",
    "\n",
    "save(Transition_probability(\n",
    "    From_state=noninfectious_active_state,\n",
    "    To_state=self_cure_from_noninfectious,\n",
    "    Tp_base=rate_self_cure_qt\n",
    "))\n",
    "\n",
    "# Relapse from self cure - infectious\n",
    "\n",
    "rate_relapse_from_self_cure_qt = convert_year_to_qt(rate_relapse_from_self_cure_annual.value)\n",
    "\n",
    "save(Transition_probability(\n",
    "    From_state=self_cure_from_infectious ,\n",
    "    To_state=infectious_active_state,\n",
    "    Tp_base=rate_relapse_from_self_cure_qt\n",
    "))\n",
    "\n",
    "# Replase from self cure - noninfectious\n",
    "\n",
    "rate_relapse_from_self_cure_qt = convert_year_to_qt(rate_relapse_from_self_cure_annual.value)\n",
    "\n",
    "save(Transition_probability(\n",
    "    From_state=self_cure_from_noninfectious,\n",
    "    To_state=noninfectious_active_state,\n",
    "    Tp_base=rate_relapse_from_self_cure_qt\n",
    "))\n",
    "\n",
    "\n",
    "# Conversion from non-infectious to infectious\n",
    "\n",
    "rate_conversion_qt = convert_year_to_qt(rate_conversion_annual.value)\n",
    "\n",
    "save(Transition_probability(\n",
    "    From_state=noninfectious_active_state,\n",
    "    To_state=infectious_active_state,\n",
    "    Tp_base=rate_conversion_qt\n",
    "))\n",
    "\n",
    "\n",
    "# Mortality - from noninfectious\n",
    "\n",
    "noninfect_tb_mort_qt = convert_year_to_qt(noninfect_tb_mort_annual.value)\n",
    "\n",
    "save(Transition_probability(\n",
    "    From_state=noninfectious_active_state,\n",
    "    To_state=death_state,\n",
    "    Tp_base=noninfect_tb_mort_qt\n",
    "))\n",
    "\n",
    "# Mortality - from infectious\n",
    "\n",
    "infect_tb_mort_qt = convert_year_to_qt(infect_tb_mort_annual.value)\n",
    "\n",
    "save(Transition_probability(\n",
    "    From_state=infectious_active_state,\n",
    "    To_state=death_state,\n",
    "    Tp_base=infect_tb_mort_qt\n",
    "))\n"
   ]
  },
  {
   "cell_type": "markdown",
   "metadata": {},
   "source": [
    "Now that we've completed building the transitions matrix, we can visualize all the transitions (recursive transitions not shown)."
   ]
  },
  {
   "cell_type": "code",
   "execution_count": 306,
   "metadata": {
    "collapsed": false
   },
   "outputs": [
    {
     "data": {
      "image/png": "[encoded data removed]",
      "text/plain": [
       "<IPython.core.display.Image object>"
      ]
     },
     "execution_count": 306,
     "metadata": {},
     "output_type": "execute_result"
    }
   ],
   "source": [
    "link_tps_to_chains()\n",
    "visualize_chain(tb_chain)\n",
    "Image(filename='file.png')"
   ]
  },
  {
   "cell_type": "markdown",
   "metadata": {},
   "source": [
    "#TB resistance\n",
    "\n",
    "Next, let's move on to discuss TB resistance. We want to model an uninfected state, as well as five different diseased states:\n",
    "\n",
    "* Fully Susceptible\n",
    "* INH-monoresistant\n",
    "* RIF-monoresistant\n",
    "* MDR\n",
    "* XDR\n",
    "\n",
    "Let's get the chain for resistance, and add these states to the chain."
   ]
  },
  {
   "cell_type": "code",
   "execution_count": 307,
   "metadata": {
    "collapsed": false
   },
   "outputs": [
    {
     "data": {
      "text/plain": [
       "[Uninfected, Fully Susceptible, INH-monoresistant, RIF-monoresistant, MDR, XDR]"
      ]
     },
     "execution_count": 307,
     "metadata": {},
     "output_type": "execute_result"
    }
   ],
   "source": [
    "# get TB resistance chain\n",
    "tb_resistance_chain = Chain.query.filter_by(name=\"TB resistance\").first()\n",
    "\n",
    "# create the chains we need\n",
    "state_names = [\"Uninfected\",\"Fully Susceptible\",\"INH-monoresistant\",\n",
    "               \"RIF-monoresistant\",\"MDR\",\"XDR\"]\n",
    "\n",
    "# save them with TB resistance chain\n",
    "for state_name in state_names:\n",
    "    the_state = State(name=state_name,chain=tb_resistance_chain)\n",
    "    save(the_state)\n",
    "    \n",
    "# print chains from database\n",
    "State.query.filter_by(chain=tb_resistance_chain).all()"
   ]
  },
  {
   "cell_type": "markdown",
   "metadata": {
    "collapsed": true
   },
   "source": [
    "##Gathering raw inputs\n",
    "\n",
    "The transition probabilities for aquiring a resistant infection are the sum of:\n",
    "* the chance of your current strain becoming endogenously resistant\n",
    "* the chance you will become infected with a drug-resistant strain from someone else\n",
    "\n",
    "The later will need to be calculated dynamically, but we can store the former as raw input to be used by the model. Let's do that."
   ]
  },
  {
   "cell_type": "code",
   "execution_count": 308,
   "metadata": {
    "collapsed": false
   },
   "outputs": [],
   "source": [
    "reference = Reference(name=\"Basu calibration\")\n",
    "\n",
    "# DS -> INHR\n",
    "\n",
    "endo_rate_ds_to_inhr_annual = Raw_input(\n",
    "    name=\"Annual rate of endogenous conversion from drug-suseptible to INH resistant\",\n",
    "    slug=\"endo_rate_ds_to_inhr_annual\",\n",
    "    value=0.038,\n",
    "    low=0.025,\n",
    "    high=0.050,\n",
    "    reference=reference\n",
    ")\n",
    "\n",
    "save(endo_rate_ds_to_inhr_annual)\n",
    "\n",
    "# DS -> RIFR\n",
    "\n",
    "endo_rate_ds_to_rifr_annual = Raw_input(\n",
    "    name=\"Annual rate of endogenous conversion from drug-suseptible to RIF resistant\",\n",
    "    slug=\"endo_rate_ds_to_rifr_annual\",\n",
    "    value=0.038,\n",
    "    low=0.025,\n",
    "    high=0.050,\n",
    "    reference=reference \n",
    ")\n",
    "\n",
    "save(endo_rate_ds_to_rifr_annual)\n",
    "\n",
    "# RIFR -> MDR\n",
    "\n",
    "endo_rate_rifr_to_mdr_annual = Raw_input(\n",
    "    name=\"Annual rate of endogenous conversion from RFI resistant to MD resistant\",\n",
    "    slug=\"endo_rate_rifr_to_mdr_annual\",\n",
    "    value=0.038,\n",
    "    low=0.025,\n",
    "    high=0.050,\n",
    "    reference=reference \n",
    ")\n",
    "\n",
    "save(endo_rate_rifr_to_mdr_annual)\n",
    "\n",
    "# INHR -> MDR\n",
    "\n",
    "endo_rate_inhr_to_mdr_annual = Raw_input(\n",
    "\t name=\"Annual rate of endogenous conversion from INHR to MD resistant\",\n",
    "    slug=\"endo_rate_inhr_to_mdr_annual\",\n",
    "    value=0.038,\n",
    "\t low=0.025,\n",
    "\t high=0.050,\n",
    "\t reference=reference \n",
    ")\n",
    "\n",
    "save(endo_rate_inhr_to_mdr_annual)\n",
    "\n",
    "# MDR->XDR\n",
    "\n",
    "endo_rate_mdr_to_xdr_annual = Raw_input(\n",
    "    name=\"Annual rate of endogenous conversion from MDR to XD resistant\",\n",
    "    slug=\"endo_rate_mdr_to_xdr_annual\",\n",
    "    value=0.030,\n",
    "    low=0.025,\n",
    "    high=0.050,\n",
    "    reference=reference \n",
    ")\n",
    "\n",
    "save(endo_rate_mdr_to_xdr_annual)"
   ]
  },
  {
   "cell_type": "markdown",
   "metadata": {},
   "source": [
    "## Transition probabilities\n",
    "\n",
    "As mentioned above, these will need to be calcualted dynamically. Let's add them in, but mark them all as dynamic."
   ]
  },
  {
   "cell_type": "code",
   "execution_count": 309,
   "metadata": {
    "collapsed": false
   },
   "outputs": [],
   "source": [
    "\n",
    "# get TB resistance chain\n",
    "tb_resistance_chain = Chain.query.filter_by(name=\"TB resistance\").first()\n",
    "\n",
    "# Get states\n",
    "uninfected_state=State.query.filter_by(name=\"Uninfected\",chain=tb_resistance_chain).first()\n",
    "fully_susceptible_state=State.query.filter_by(name=\"Fully Susceptible\",chain=tb_resistance_chain).first()\n",
    "inh_monoresistant_state=State.query.filter_by(name=\"INH-monoresistant\", chain=tb_resistance_chain).first()\n",
    "rif_monoresistant_state=State.query.filter_by(name=\"RIF-monoresistant\", chain=tb_resistance_chain).first()\n",
    "mdr_state=State.query.filter_by(name=\"MDR\", chain=tb_resistance_chain).first()\n",
    "xdr_state=State.query.filter_by(name=\"XDR\", chain=tb_resistance_chain).first()\n",
    "\n",
    "# Uninfected to infected\n",
    "save(Transition_probability(\n",
    "    From_state=uninfected_state,\n",
    "    To_state=fully_susceptible_state,\n",
    "    Is_dynamic=True\n",
    "))\n",
    "\n",
    "# DS to RIF\n",
    "save(Transition_probability(\n",
    "    From_state=fully_susceptible_state,\n",
    "    To_state=rif_monoresistant_state,\n",
    "    Is_dynamic=True\n",
    "))\n",
    "\n",
    "# DS to INHR\n",
    "save(Transition_probability(\n",
    "    From_state=fully_susceptible_state,\n",
    "    To_state=inh_monoresistant_state,\n",
    "    Is_dynamic=True\n",
    "))\n",
    "\n",
    "#  RIF to MDR\n",
    "save(Transition_probability(\n",
    "    From_state=rif_monoresistant_state,\n",
    "    To_state=mdr_state,\n",
    "    Is_dynamic=True\n",
    "))\n",
    "\n",
    "# IHN to MDR\n",
    "save(Transition_probability(\n",
    "    From_state=inh_monoresistant_state,\n",
    "    To_state=mdr_state,\n",
    "    Is_dynamic=True\n",
    "))\n",
    "\n",
    "# MDR to XDR\n",
    "save(Transition_probability(\n",
    "    From_state=mdr_state,\n",
    "    To_state=xdr_state,\n",
    "    Is_dynamic=True\n",
    "))\n"
   ]
  },
  {
   "cell_type": "markdown",
   "metadata": {},
   "source": [
    "We can now visualize this chain."
   ]
  },
  {
   "cell_type": "code",
   "execution_count": 310,
   "metadata": {
    "collapsed": false
   },
   "outputs": [
    {
     "data": {
      "image/png": "[encoded data removed]",
      "text/plain": [
       "<IPython.core.display.Image object>"
      ]
     },
     "execution_count": 310,
     "metadata": {},
     "output_type": "execute_result"
    }
   ],
   "source": [
    "link_tps_to_chains()\n",
    "visualize_chain(tb_resistance_chain)\n",
    "Image(filename='file.png')"
   ]
  },
  {
   "cell_type": "markdown",
   "metadata": {},
   "source": [
    "#TB treatment\n",
    "\n",
    "Now, let's turn our attention to the TB treatment model. In addition to the uninfected state, we need to model three diseased states: untreated (latent), untreated (active) and treated. Let's create those states."
   ]
  },
  {
   "cell_type": "code",
   "execution_count": 311,
   "metadata": {
    "collapsed": false
   },
   "outputs": [
    {
     "data": {
      "text/plain": [
       "[Uninfected, Untreated - Latent, Untreated - Active, Treated]"
      ]
     },
     "execution_count": 311,
     "metadata": {},
     "output_type": "execute_result"
    }
   ],
   "source": [
    "# get TB treatment chain\n",
    "tb_treatment_chain = Chain.query.filter_by(name=\"TB treatment\").first()\n",
    "\n",
    "# create the chains we need\n",
    "state_names = [\"Uninfected\",\"Untreated - Latent\", \"Untreated - Active\", \"Treated\"]\n",
    "\n",
    "# save them with TB resistance chain\n",
    "for state_name in state_names:\n",
    "    the_state = State(name=state_name,chain=tb_treatment_chain)\n",
    "    save(the_state)\n",
    "    \n",
    "# print chains from database\n",
    "State.query.filter_by(chain=tb_treatment_chain).all()"
   ]
  },
  {
   "cell_type": "markdown",
   "metadata": {},
   "source": [
    "##Raw inputs\n",
    "\n",
    "Now let's look at the raw data.\n",
    "\n",
    "Obviously, transition from uninfected to untreated latent and untreated latent to untreated active are dynamic.\n",
    "\n",
    "Treatment uptake rates for active infections are not readily available. However, there is an estimated case detection of 62% (52–75).1 "
   ]
  },
  {
   "cell_type": "code",
   "execution_count": 312,
   "metadata": {
    "collapsed": true
   },
   "outputs": [],
   "source": [
    "reference = Reference(name=\"WHO. Global tuberculosis report 2013. (2013)\")\n",
    "\n",
    "case_detection_rate = Raw_input(\n",
    "    name=\"Estimated case detection\",\n",
    "    slug=\"case_detection_rate\",\n",
    "    value=0.62,\n",
    "    low=0.52,\n",
    "    high=0.75,\n",
    "    reference=reference\n",
    ")\n",
    "\n",
    "save(case_detection_rate)"
   ]
  },
  {
   "cell_type": "markdown",
   "metadata": {},
   "source": [
    "One study of 376 confirmed active cases in South Africa suggested that only 74% of those diagnosed started treatment. I will assume that the high and low are 0.7 and 0.8\n"
   ]
  },
  {
   "cell_type": "code",
   "execution_count": 313,
   "metadata": {
    "collapsed": false
   },
   "outputs": [],
   "source": [
    "reference = Reference(name=\"Botha, E. et al. From suspect to patient...\")\n",
    "\n",
    "percent_diagnosed_treated = Raw_input(\n",
    "    name=\"Proportion of diagnosed that recieve treatment\",\n",
    "    slug=\"percent_diagnosed_treated\",\n",
    "    value=0.74,\n",
    "    low=0.7,\n",
    "    high=0.8,\n",
    "    reference=reference\n",
    ")\n",
    "\n",
    "save(percent_diagnosed_treated)"
   ]
  },
  {
   "cell_type": "markdown",
   "metadata": {},
   "source": [
    "Althougth this is not fully accurate, we can estimate the total percent of individuals who recieve treatment using these two values."
   ]
  },
  {
   "cell_type": "code",
   "execution_count": 314,
   "metadata": {
    "collapsed": false
   },
   "outputs": [],
   "source": [
    "overall_percent_active_treated = Raw_input(\n",
    "    name=\"Percent of all active that will be treated\",\n",
    "    slug=\"overall_percent_active_treated\",\n",
    "    value=percent_diagnosed_treated.value * case_detection_rate.value,\n",
    "    low=percent_diagnosed_treated.low * case_detection_rate.low,\n",
    "    high=percent_diagnosed_treated.high * case_detection_rate.high,\n",
    ")\n",
    "\n",
    "save(overall_percent_active_treated)\n"
   ]
  },
  {
   "cell_type": "markdown",
   "metadata": {},
   "source": [
    "We will also assume that there is a drop-out rate of 10% (5-15%)"
   ]
  },
  {
   "cell_type": "code",
   "execution_count": 315,
   "metadata": {
    "collapsed": false
   },
   "outputs": [],
   "source": [
    "drop_out_rate_annual = Raw_input(\n",
    "    name=\"Annual drop out rate\",\n",
    "    slug=\"drop_out_rate_annual\",\n",
    "    value=0.1,\n",
    "    low=0.05,\n",
    "    high=0.15\n",
    ")\n",
    "\n",
    "save(drop_out_rate_annual)"
   ]
  },
  {
   "cell_type": "markdown",
   "metadata": {},
   "source": [
    "##Transition probabilities\n",
    "\n",
    "Now let's add in the transition probabilities."
   ]
  },
  {
   "cell_type": "code",
   "execution_count": 319,
   "metadata": {
    "collapsed": false
   },
   "outputs": [],
   "source": [
    "# convert annual to quarterly \n",
    "\n",
    "drop_out_rate_qt = convert_year_to_qt(drop_out_rate_annual.value)\n",
    "enrollment_rate_qt = convert_year_to_qt(overall_percent_active_treated.value)\n",
    "\n",
    "\n",
    "# get TB resistance chain\n",
    "tb_treatment_chain = Chain.query.filter_by(name=\"TB treatment\").first()\n",
    "\n",
    "# Get states\n",
    "uninfected_state=State.query.filter_by(name=\"Uninfected\",chain=tb_treatment_chain).first()\n",
    "untreated_latent_state=State.query.filter_by(name=\"Untreated - Latent\",chain=tb_treatment_chain).first()\n",
    "untreated_active_state=State.query.filter_by(name=\"Untreated - Active\", chain=tb_treatment_chain).first()\n",
    "treated_state=State.query.filter_by(name=\"Treated\", chain=tb_treatment_chain).first()\n",
    "\n",
    "\n",
    "# Uninfected to untreated latent\n",
    "save(Transition_probability(\n",
    "    From_state=uninfected_state,\n",
    "    To_state=untreated_latent_state,\n",
    "    Is_dynamic=True\n",
    "))\n",
    "\n",
    "# Untreated latent to untreated active\n",
    "save(Transition_probability(\n",
    "    From_state=untreated_latent_state,\n",
    "    To_state=untreated_active_state,\n",
    "    Is_dynamic=True\n",
    "))\n",
    "\n",
    "\n",
    "# Enrollment - Untreated active to treated active\n",
    "save(Transition_probability(\n",
    "    From_state=untreated_active_state,\n",
    "    To_state=treated_state,\n",
    "    Tp_base=enrollment_rate_qt\n",
    "))\n",
    "\n",
    "\n",
    "# Drop - out Untreated active to untreated active\n",
    "save(Transition_probability(\n",
    "    From_state=treated_state,\n",
    "    To_state=untreated_active_state,\n",
    "     Tp_base=drop_out_rate_qt\n",
    "))\n",
    "\n",
    "\n"
   ]
  },
  {
   "cell_type": "markdown",
   "metadata": {},
   "source": [
    "Now, let's visualize this chain."
   ]
  },
  {
   "cell_type": "code",
   "execution_count": 320,
   "metadata": {
    "collapsed": false
   },
   "outputs": [
    {
     "data": {
      "image/png": "[encoded data removed]",
      "text/plain": [
       "<IPython.core.display.Image object>"
      ]
     },
     "execution_count": 320,
     "metadata": {},
     "output_type": "execute_result"
    }
   ],
   "source": [
    "link_tps_to_chains()\n",
    "visualize_chain(tb_treatment_chain)\n",
    "Image(filename='file.png')"
   ]
  },
  {
   "cell_type": "code",
   "execution_count": null,
   "metadata": {
    "collapsed": true
   },
   "outputs": [],
   "source": [
    "#HIV disease\n",
    "\n",
    "Now, lets turn our attention to the HIV model. Let's start by building the disease model."
   ]
  }
 ],
 "metadata": {
  "kernelspec": {
   "display_name": "Python 2",
   "language": "python",
   "name": "python2"
  },
  "language_info": {
   "codemirror_mode": {
    "name": "ipython",
    "version": 2
   },
   "file_extension": ".py",
   "mimetype": "text/x-python",
   "name": "python",
   "nbconvert_exporter": "python",
   "pygments_lexer": "ipython2",
   "version": "2.7.5"
  }
 },
 "nbformat": 4,
 "nbformat_minor": 0
}
